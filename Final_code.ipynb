{
  "nbformat": 4,
  "nbformat_minor": 0,
  "metadata": {
    "colab": {
      "name": "Final code",
      "provenance": [],
      "collapsed_sections": []
    },
    "kernelspec": {
      "display_name": "Python 3",
      "name": "python3"
    },
    "language_info": {
      "name": "python"
    },
    "accelerator": "GPU"
  },
  "cells": [
    {
      "cell_type": "code",
      "metadata": {
        "id": "54dRo4Emv2IR"
      },
      "source": [
        "# importing certain libraries that shall be usefull for reading and excecuting the code\n",
        "import numpy as np\n",
        "import pandas as pd\n",
        "import tensorflow as tf\n",
        "from tensorflow import keras\n",
        "from tensorflow.keras.preprocessing.text import Tokenizer "
      ],
      "execution_count": null,
      "outputs": []
    },
    {
      "cell_type": "code",
      "metadata": {
        "id": "UrYPxI7OApLT",
        "colab": {
          "base_uri": "https://localhost:8080/",
          "height": 206
        },
        "outputId": "a0a5de24-a0e9-4edd-ac49-b894819ff2d1"
      },
      "source": [
        "sentiments = pd.read_csv('https://raw.githubusercontent.com/dwipdalal/NLP_METISPROJECT/main/sentiment_labels.txt', delimiter='|')\n",
        "sentiments.head()\n",
        "# this is the dataset of sentiment values corresponding to the phrase id. "
      ],
      "execution_count": null,
      "outputs": [
        {
          "output_type": "execute_result",
          "data": {
            "text/html": [
              "<div>\n",
              "<style scoped>\n",
              "    .dataframe tbody tr th:only-of-type {\n",
              "        vertical-align: middle;\n",
              "    }\n",
              "\n",
              "    .dataframe tbody tr th {\n",
              "        vertical-align: top;\n",
              "    }\n",
              "\n",
              "    .dataframe thead th {\n",
              "        text-align: right;\n",
              "    }\n",
              "</style>\n",
              "<table border=\"1\" class=\"dataframe\">\n",
              "  <thead>\n",
              "    <tr style=\"text-align: right;\">\n",
              "      <th></th>\n",
              "      <th>phrase ids</th>\n",
              "      <th>sentiment values</th>\n",
              "    </tr>\n",
              "  </thead>\n",
              "  <tbody>\n",
              "    <tr>\n",
              "      <th>0</th>\n",
              "      <td>0</td>\n",
              "      <td>0.50000</td>\n",
              "    </tr>\n",
              "    <tr>\n",
              "      <th>1</th>\n",
              "      <td>1</td>\n",
              "      <td>0.50000</td>\n",
              "    </tr>\n",
              "    <tr>\n",
              "      <th>2</th>\n",
              "      <td>2</td>\n",
              "      <td>0.44444</td>\n",
              "    </tr>\n",
              "    <tr>\n",
              "      <th>3</th>\n",
              "      <td>3</td>\n",
              "      <td>0.50000</td>\n",
              "    </tr>\n",
              "    <tr>\n",
              "      <th>4</th>\n",
              "      <td>4</td>\n",
              "      <td>0.42708</td>\n",
              "    </tr>\n",
              "  </tbody>\n",
              "</table>\n",
              "</div>"
            ],
            "text/plain": [
              "   phrase ids  sentiment values\n",
              "0           0           0.50000\n",
              "1           1           0.50000\n",
              "2           2           0.44444\n",
              "3           3           0.50000\n",
              "4           4           0.42708"
            ]
          },
          "metadata": {},
          "execution_count": 26
        }
      ]
    },
    {
      "cell_type": "code",
      "metadata": {
        "id": "P0ewrHFsnoVN",
        "colab": {
          "base_uri": "https://localhost:8080/",
          "height": 237
        },
        "outputId": "7204fe26-d38f-4c4f-b16a-bcce16d11ef2"
      },
      "source": [
        "dataset_phrases = pd.read_csv('https://raw.githubusercontent.com/dwipdalal/NLP_METISPROJECT/main/dictionary.txt',delimiter='|')\n",
        "#this is dataset of phrases \n",
        "# since for getting a good look of overall dataset it is important to put phrase and there sentiment values in a single column\n",
        "# the phrase in dataset_phrase are jumbled so for concating two dataset that is dataset_phrase and sentiments it is necessary to make the phrase id column of both in same order so we shall sort the dataset_phrase\n",
        "dataset_phrases.sort_values('0',inplace = True)\n",
        "dataset_phrases.set_index('0', inplace=True)\n",
        "dataset_phrases.head()"
      ],
      "execution_count": null,
      "outputs": [
        {
          "output_type": "execute_result",
          "data": {
            "text/html": [
              "<div>\n",
              "<style scoped>\n",
              "    .dataframe tbody tr th:only-of-type {\n",
              "        vertical-align: middle;\n",
              "    }\n",
              "\n",
              "    .dataframe tbody tr th {\n",
              "        vertical-align: top;\n",
              "    }\n",
              "\n",
              "    .dataframe thead th {\n",
              "        text-align: right;\n",
              "    }\n",
              "</style>\n",
              "<table border=\"1\" class=\"dataframe\">\n",
              "  <thead>\n",
              "    <tr style=\"text-align: right;\">\n",
              "      <th></th>\n",
              "      <th>!</th>\n",
              "    </tr>\n",
              "    <tr>\n",
              "      <th>0</th>\n",
              "      <th></th>\n",
              "    </tr>\n",
              "  </thead>\n",
              "  <tbody>\n",
              "    <tr>\n",
              "      <th>1</th>\n",
              "      <td>'</td>\n",
              "    </tr>\n",
              "    <tr>\n",
              "      <th>2</th>\n",
              "      <td>' (</td>\n",
              "    </tr>\n",
              "    <tr>\n",
              "      <th>3</th>\n",
              "      <td>' ( the cockettes</td>\n",
              "    </tr>\n",
              "    <tr>\n",
              "      <th>4</th>\n",
              "      <td>' ( the cockettes )</td>\n",
              "    </tr>\n",
              "    <tr>\n",
              "      <th>5</th>\n",
              "      <td>' ( the cockettes ) provides a window into a s...</td>\n",
              "    </tr>\n",
              "  </tbody>\n",
              "</table>\n",
              "</div>"
            ],
            "text/plain": [
              "                                                   !\n",
              "0                                                   \n",
              "1                                                  '\n",
              "2                                                ' (\n",
              "3                                  ' ( the cockettes\n",
              "4                                ' ( the cockettes )\n",
              "5  ' ( the cockettes ) provides a window into a s..."
            ]
          },
          "metadata": {},
          "execution_count": 27
        }
      ]
    },
    {
      "cell_type": "code",
      "metadata": {
        "id": "szOozdk7ot-v",
        "colab": {
          "base_uri": "https://localhost:8080/",
          "height": 206
        },
        "outputId": "9becf920-5592-4068-deae-30120fbd501f"
      },
      "source": [
        "df = pd.concat([dataset_phrases,sentiments], axis=1)\n",
        "df.head()\n",
        "df.shape\n",
        "df.tail()"
      ],
      "execution_count": null,
      "outputs": [
        {
          "output_type": "execute_result",
          "data": {
            "text/html": [
              "<div>\n",
              "<style scoped>\n",
              "    .dataframe tbody tr th:only-of-type {\n",
              "        vertical-align: middle;\n",
              "    }\n",
              "\n",
              "    .dataframe tbody tr th {\n",
              "        vertical-align: top;\n",
              "    }\n",
              "\n",
              "    .dataframe thead th {\n",
              "        text-align: right;\n",
              "    }\n",
              "</style>\n",
              "<table border=\"1\" class=\"dataframe\">\n",
              "  <thead>\n",
              "    <tr style=\"text-align: right;\">\n",
              "      <th></th>\n",
              "      <th>!</th>\n",
              "      <th>phrase ids</th>\n",
              "      <th>sentiment values</th>\n",
              "    </tr>\n",
              "  </thead>\n",
              "  <tbody>\n",
              "    <tr>\n",
              "      <th>239227</th>\n",
              "      <td>your standard Hollywood bio-pic</td>\n",
              "      <td>239227</td>\n",
              "      <td>0.36111</td>\n",
              "    </tr>\n",
              "    <tr>\n",
              "      <th>239228</th>\n",
              "      <td>your typical ` fish out of water ' story</td>\n",
              "      <td>239228</td>\n",
              "      <td>0.38889</td>\n",
              "    </tr>\n",
              "    <tr>\n",
              "      <th>239229</th>\n",
              "      <td>zero .</td>\n",
              "      <td>239229</td>\n",
              "      <td>0.33333</td>\n",
              "    </tr>\n",
              "    <tr>\n",
              "      <th>239230</th>\n",
              "      <td>zippy jazzy score</td>\n",
              "      <td>239230</td>\n",
              "      <td>0.88889</td>\n",
              "    </tr>\n",
              "    <tr>\n",
              "      <th>239231</th>\n",
              "      <td>UNK</td>\n",
              "      <td>239231</td>\n",
              "      <td>0.50000</td>\n",
              "    </tr>\n",
              "  </tbody>\n",
              "</table>\n",
              "</div>"
            ],
            "text/plain": [
              "                                               !  phrase ids  sentiment values\n",
              "239227           your standard Hollywood bio-pic      239227           0.36111\n",
              "239228  your typical ` fish out of water ' story      239228           0.38889\n",
              "239229                                    zero .      239229           0.33333\n",
              "239230                         zippy jazzy score      239230           0.88889\n",
              "239231                                       UNK      239231           0.50000"
            ]
          },
          "metadata": {},
          "execution_count": 28
        }
      ]
    },
    {
      "cell_type": "code",
      "metadata": {
        "id": "lB_pW-p_ejD3",
        "colab": {
          "base_uri": "https://localhost:8080/"
        },
        "outputId": "338510d6-63c4-49fc-bd76-bfa924e8ee7e"
      },
      "source": [
        "#missing value remover\n",
        "df.isnull()\n",
        "df.dropna(how = 'any', axis = 0, inplace = True)\n",
        "df.shape\n",
        "# this shows that there are no null values"
      ],
      "execution_count": null,
      "outputs": [
        {
          "output_type": "execute_result",
          "data": {
            "text/plain": [
              "(239231, 3)"
            ]
          },
          "metadata": {},
          "execution_count": 29
        }
      ]
    },
    {
      "cell_type": "code",
      "metadata": {
        "id": "mmeGXpjlyyuc",
        "colab": {
          "base_uri": "https://localhost:8080/"
        },
        "outputId": "4357806f-dc3a-4185-a589-11580171e132"
      },
      "source": [
        "# since the sentiment values are fraction number and  since we have to perform 3 class classifcation we have divide fractional values into 3 classes\n",
        "# 0 - [0, 0.333]\n",
        "# 1 - [0.333, 0.666]\n",
        "# 2 - [0.333, 0.666]\n",
        "p = []\n",
        "a = 0.333\n",
        "b = 0.666\n",
        "for i in list(df['sentiment values']):\n",
        "  if (i>=0 and i<=a): \n",
        "    p.append(0)\n",
        "  elif i>a and i<=b:\n",
        "    p.append(1)\n",
        "  else:\n",
        "    p.append(2)\n",
        "len(p)"
      ],
      "execution_count": null,
      "outputs": [
        {
          "output_type": "execute_result",
          "data": {
            "text/plain": [
              "239231"
            ]
          },
          "metadata": {},
          "execution_count": 30
        }
      ]
    },
    {
      "cell_type": "code",
      "metadata": {
        "id": "Ws6aG70YF_I9",
        "colab": {
          "base_uri": "https://localhost:8080/",
          "height": 411
        },
        "outputId": "fe2658ab-e718-417b-c386-20e66d50f1b5"
      },
      "source": [
        "one = p.count(1)\n",
        "zero = p.count(0)\n",
        "two = p.count(2)\n",
        "fig = plt.figure(figsize =(10, 7))\n",
        "plt.pie([zero,one,two], labels = [0,1,2])\n",
        "plt.show()\n"
      ],
      "execution_count": null,
      "outputs": [
        {
          "output_type": "display_data",
          "data": {
            "image/png": "[encoded data removed]",
            "text/plain": [
              "<Figure size 720x504 with 1 Axes>"
            ]
          },
          "metadata": {}
        }
      ]
    },
    {
      "cell_type": "code",
      "metadata": {
        "id": "34PBnyhx1jDG"
      },
      "source": [
        "# to split dataset into training and testing part\n",
        "X = df['!'].astype('str')\n",
        "y = p\n",
        "from sklearn.model_selection import train_test_split\n",
        "X_train, X_test, y_train, y_test = train_test_split(X, y,stratify = y,test_size=0.1, random_state=42)\n",
        "# 10% of the original dataset shall be used for testing purposes \n",
        "# stratify locks the distribution of different class labels. I.e. ratios of distribution of class labels in train and test will be almost same"
      ],
      "execution_count": null,
      "outputs": []
    },
    {
      "cell_type": "code",
      "metadata": {
        "id": "gtB-uOeFp3Aw"
      },
      "source": [
        "# this is for tokenizing the words, then each word of the tokenized list shall be given a specific index \n",
        "tokenizer = Tokenizer(oov_token= '<0VV>') # <0VV> is the token that the model shall replace the unseen words with. So if some word of the test case is not there in tokenized list then that word shall be replaces with 0VV this is done to maintain the size of the sentence. \n",
        "tokenizer.fit_on_texts(X_train.astype(str)) # we have to use astype(str) as there are some numbers in df[!]\n",
        "word_index_ = tokenizer.word_index # gives index to each word and then makes a dictionary of word and their indexes.\n",
        "\n",
        "\n",
        "# since computer does not understand letters so we shall make list of sequence of numbers that is replaces sentences with sequences of indexes corresponding to those words that shall be feeded to our neural network model.\n",
        "# the numbers that would constitue to this list are those numbers which are index of the corresponding words in the dictionary.\n",
        "sequence_train = tokenizer.texts_to_sequences(X_train)\n",
        "sequence_test = tokenizer.texts_to_sequences(X_test)\n"
      ],
      "execution_count": null,
      "outputs": []
    },
    {
      "cell_type": "code",
      "metadata": {
        "id": "WQi0BBX64RKa"
      },
      "source": [
        "# different sentences has different length so we need to pad the sentences inorder to make all of them of same length before feeding them in our model\n",
        "from tensorflow.keras.preprocessing.sequence import pad_sequences\n",
        "padded_train = pad_sequences(sequence_train, maxlen= 52)\n",
        "padded_test = pad_sequences(sequence_test, maxlen= 52)"
      ],
      "execution_count": null,
      "outputs": []
    },
    {
      "cell_type": "code",
      "metadata": {
        "id": "SdTP0mfs7FPl",
        "colab": {
          "base_uri": "https://localhost:8080/"
        },
        "outputId": "79f67602-bc5a-4e0f-9d1d-891f5d016f74"
      },
      "source": [
        "type(padded_test)"
      ],
      "execution_count": null,
      "outputs": [
        {
          "output_type": "execute_result",
          "data": {
            "text/plain": [
              "numpy.ndarray"
            ]
          },
          "metadata": {},
          "execution_count": 34
        }
      ]
    },
    {
      "cell_type": "code",
      "metadata": {
        "id": "sd6K0jAHtfN9",
        "colab": {
          "base_uri": "https://localhost:8080/"
        },
        "outputId": "60508467-8714-4964-8212-bacf8023883b"
      },
      "source": [
        "X_train = padded_train\n",
        "X_test = padded_test\n",
        "y_train = tf.keras.utils.to_categorical(y_train,num_classes= 3)\n",
        "y_train"
      ],
      "execution_count": null,
      "outputs": [
        {
          "output_type": "execute_result",
          "data": {
            "text/plain": [
              "array([[0., 1., 0.],\n",
              "       [0., 0., 1.],\n",
              "       [0., 1., 0.],\n",
              "       ...,\n",
              "       [0., 1., 0.],\n",
              "       [0., 0., 1.],\n",
              "       [0., 1., 0.]], dtype=float32)"
            ]
          },
          "metadata": {},
          "execution_count": 35
        }
      ]
    },
    {
      "cell_type": "markdown",
      "metadata": {
        "id": "jDBbyDr55BkQ"
      },
      "source": [
        "# Early stopping\n",
        "To prevent overfitting of the model we shall be using early stopping. The corresponding callback function shall stop training when the validation accuracy does not increase for 3 consecutive epochs "
      ]
    },
    {
      "cell_type": "code",
      "metadata": {
        "id": "p-tnuX064pfo"
      },
      "source": [
        "callback= tf.keras.callbacks.EarlyStopping(monitor=\"val_accuracy\",patience=3, verbose=2, mode=\"auto\", restore_best_weights=True)\n",
        "# patience counts number of epochs with no developement and then stops the epochs"
      ],
      "execution_count": null,
      "outputs": []
    },
    {
      "cell_type": "code",
      "metadata": {
        "id": "IMHNbEwcB3Ku"
      },
      "source": [
        "# list to append all of the three models\n",
        "a = []"
      ],
      "execution_count": null,
      "outputs": []
    },
    {
      "cell_type": "code",
      "metadata": {
        "id": "Y18jQlu2Vqb2"
      },
      "source": [
        "X_train, X_val, y_train, y_val = train_test_split(X_train, y_train,stratify = y_train ,test_size=0.1)"
      ],
      "execution_count": null,
      "outputs": []
    },
    {
      "cell_type": "markdown",
      "metadata": {
        "id": "uftsYEzvF0rW"
      },
      "source": [
        ""
      ]
    },
    {
      "cell_type": "markdown",
      "metadata": {
        "id": "Y1lhY3BDaS2r"
      },
      "source": [
        "### Model 1"
      ]
    },
    {
      "cell_type": "markdown",
      "metadata": {
        "id": "kdvq0loS7H6E"
      },
      "source": [
        "The sentences until now are just sequences of words and have no real meaning therefore we shall do word embedding to make sematic vectors. These vectors will be made by using the concept: meaning of the words is know by the company it has."
      ]
    },
    {
      "cell_type": "code",
      "metadata": {
        "id": "V3kjlfp32z09"
      },
      "source": [
        "model1 = keras.models.Sequential()\n",
        "model1.add(keras.layers.Embedding(18079+1, 52, input_length=52))\n",
        "from keras.layers import LSTM\n",
        "model1.add(LSTM(100))\n",
        "model1.add(keras.layers.Dense(10, activation=\"relu\"))\n",
        "model1.add(keras.layers.Dense(3, activation=\"softmax\"))\n"
      ],
      "execution_count": null,
      "outputs": []
    },
    {
      "cell_type": "code",
      "metadata": {
        "id": "atzmeZbZ5iHi",
        "colab": {
          "base_uri": "https://localhost:8080/"
        },
        "outputId": "844fe42e-362c-4778-a2d9-166594c78b9a"
      },
      "source": [
        "model1.summary()"
      ],
      "execution_count": null,
      "outputs": [
        {
          "output_type": "stream",
          "text": [
            "Model: \"sequential_1\"\n",
            "_________________________________________________________________\n",
            "Layer (type)                 Output Shape              Param #   \n",
            "=================================================================\n",
            "embedding_1 (Embedding)      (None, 52, 52)            940160    \n",
            "_________________________________________________________________\n",
            "lstm_1 (LSTM)                (None, 100)               61200     \n",
            "_________________________________________________________________\n",
            "dense_2 (Dense)              (None, 10)                1010      \n",
            "_________________________________________________________________\n",
            "dense_3 (Dense)              (None, 3)                 33        \n",
            "=================================================================\n",
            "Total params: 1,002,403\n",
            "Trainable params: 1,002,403\n",
            "Non-trainable params: 0\n",
            "_________________________________________________________________\n"
          ],
          "name": "stdout"
        }
      ]
    },
    {
      "cell_type": "code",
      "metadata": {
        "id": "Q0BcD0oo5oAk"
      },
      "source": [
        "model1.compile(loss= \"categorical_crossentropy\", optimizer=\"adam\", metrics=[\"accuracy\"])"
      ],
      "execution_count": null,
      "outputs": []
    },
    {
      "cell_type": "markdown",
      "metadata": {
        "id": "Hbq4nc6iJaBj"
      },
      "source": [
        "By setting verbose 0, 1 or 2 you just say how do you want to 'see' the training progress for each epoch.\n",
        "\n",
        "verbose=0 will show you nothing (silent)\n",
        "\n",
        "verbose=1 will show you an animated progress bar \n",
        "\n",
        "verbose=2 will just mention the number of epoch like this:"
      ]
    },
    {
      "cell_type": "code",
      "metadata": {
        "colab": {
          "base_uri": "https://localhost:8080/"
        },
        "id": "6XxFLeyBDv_f",
        "outputId": "bfbb1af7-6d1b-4049-9774-13b07bd1af9d"
      },
      "source": [
        "y_val.shape"
      ],
      "execution_count": null,
      "outputs": [
        {
          "output_type": "execute_result",
          "data": {
            "text/plain": [
              "(21531, 3)"
            ]
          },
          "metadata": {},
          "execution_count": 42
        }
      ]
    },
    {
      "cell_type": "code",
      "metadata": {
        "id": "dYUEFFDktEEx",
        "colab": {
          "base_uri": "https://localhost:8080/"
        },
        "outputId": "cfa0d244-9e53-4fd8-e9c4-f5fa230b84ee"
      },
      "source": [
        "#default batch size is 32\n",
        "history = model1.fit(X_train, y_train, epochs = 8, verbose=2, validation_data=(X_val,y_val), callbacks = [callback]) # the validation data should be provied as tuple or less there is a huge error in format matching"
      ],
      "execution_count": null,
      "outputs": [
        {
          "output_type": "stream",
          "text": [
            "Epoch 1/8\n",
            "6056/6056 - 75s - loss: 0.5751 - accuracy: 0.7609 - val_loss: 0.4991 - val_accuracy: 0.7897\n",
            "Epoch 2/8\n",
            "6056/6056 - 70s - loss: 0.4495 - accuracy: 0.8102 - val_loss: 0.4676 - val_accuracy: 0.7998\n",
            "Epoch 3/8\n",
            "6056/6056 - 70s - loss: 0.3998 - accuracy: 0.8303 - val_loss: 0.4675 - val_accuracy: 0.8044\n",
            "Epoch 4/8\n",
            "6056/6056 - 67s - loss: 0.3670 - accuracy: 0.8435 - val_loss: 0.4755 - val_accuracy: 0.8036\n",
            "Epoch 5/8\n",
            "6056/6056 - 68s - loss: 0.3409 - accuracy: 0.8528 - val_loss: 0.4942 - val_accuracy: 0.8037\n",
            "Epoch 6/8\n",
            "6056/6056 - 67s - loss: 0.3178 - accuracy: 0.8617 - val_loss: 0.5101 - val_accuracy: 0.7993\n",
            "Restoring model weights from the end of the best epoch.\n",
            "Epoch 00006: early stopping\n"
          ],
          "name": "stdout"
        }
      ]
    },
    {
      "cell_type": "code",
      "metadata": {
        "id": "il5HChrgi2N2",
        "colab": {
          "base_uri": "https://localhost:8080/"
        },
        "outputId": "758e4b88-d395-4923-dd62-baab3c82942f"
      },
      "source": [
        "y_test = tf.keras.utils.to_categorical(y_test, num_classes= 3)\n",
        "print(y_test.shape, X_test.shape)"
      ],
      "execution_count": null,
      "outputs": [
        {
          "output_type": "stream",
          "text": [
            "(23924, 3) (23924, 52)\n"
          ],
          "name": "stdout"
        }
      ]
    },
    {
      "cell_type": "code",
      "metadata": {
        "id": "hYuTQr3Z24kc",
        "colab": {
          "base_uri": "https://localhost:8080/",
          "height": 295
        },
        "outputId": "e24d8a50-06e7-486d-8cd7-e545d5874c9f"
      },
      "source": [
        "# to plot the graph of accuracy vs epochs\n",
        "import matplotlib.pyplot as plt\n",
        "plt.plot(history.history['accuracy'], 'b')\n",
        "plt.plot(history.history['val_accuracy'], 'r')\n",
        "plt.title('Model Accuracy'),\n",
        "plt.xlabel('Epochs')\n",
        "plt.ylabel('Accuracy')\n",
        "plt.legend(['Train', 'Validation'], loc='upper left')\n",
        "plt.show()"
      ],
      "execution_count": null,
      "outputs": [
        {
          "output_type": "display_data",
          "data": {
            "image/png": "[encoded data removed]",
            "text/plain": [
              "<Figure size 432x288 with 1 Axes>"
            ]
          },
          "metadata": {
            "needs_background": "light"
          }
        }
      ]
    },
    {
      "cell_type": "markdown",
      "metadata": {
        "id": "OhjiFtsU-Ai9"
      },
      "source": [
        "Since now our model is trianed so we shall find it's actuall accuracy. For doing that we shall pass unseen data into the model and then check the corresponing accuracy. The unseen data in this case is the test data. "
      ]
    },
    {
      "cell_type": "code",
      "metadata": {
        "id": "1wonrgsfJFWD",
        "colab": {
          "base_uri": "https://localhost:8080/"
        },
        "outputId": "d01270ab-f296-48b8-befb-ec7958e4199c"
      },
      "source": [
        "scores = model1.evaluate(X_test, y_test, verbose=0)\n",
        "print('Test accuracy:', scores[1])"
      ],
      "execution_count": null,
      "outputs": [
        {
          "output_type": "stream",
          "text": [
            "Test accuracy: 0.8030847907066345\n"
          ],
          "name": "stdout"
        }
      ]
    },
    {
      "cell_type": "code",
      "metadata": {
        "id": "IVSdCTnF3CTL"
      },
      "source": [
        "model1.save('model1.h5')"
      ],
      "execution_count": null,
      "outputs": []
    },
    {
      "cell_type": "code",
      "metadata": {
        "id": "6TmVrTTlB-4U"
      },
      "source": [
        "a.append(model1)"
      ],
      "execution_count": null,
      "outputs": []
    },
    {
      "cell_type": "markdown",
      "metadata": {
        "id": "XddYZVn2asP-"
      },
      "source": [
        "### Model2"
      ]
    },
    {
      "cell_type": "code",
      "metadata": {
        "id": "PuSk7iBqajth"
      },
      "source": [
        "from keras.layers import LSTM\n",
        "from keras.layers import Bidirectional, Dense\n",
        "model2 = keras.models.Sequential()\n",
        "model2.add(keras.layers.Embedding(18079+1, 52, input_length=52))\n",
        "model2.add(Bidirectional(LSTM(52)))\n",
        "model2.add(keras.layers.Dense(10, activation=\"relu\"))\n",
        "model2.add(keras.layers.Dense(3, activation=\"softmax\"))"
      ],
      "execution_count": null,
      "outputs": []
    },
    {
      "cell_type": "code",
      "metadata": {
        "id": "UJwxvqW9azt2",
        "colab": {
          "base_uri": "https://localhost:8080/"
        },
        "outputId": "b13e3fbb-bcef-4644-d233-d186dc74457f"
      },
      "source": [
        "model2.summary()"
      ],
      "execution_count": null,
      "outputs": [
        {
          "output_type": "stream",
          "text": [
            "Model: \"sequential_2\"\n",
            "_________________________________________________________________\n",
            "Layer (type)                 Output Shape              Param #   \n",
            "=================================================================\n",
            "embedding_2 (Embedding)      (None, 52, 52)            940160    \n",
            "_________________________________________________________________\n",
            "bidirectional (Bidirectional (None, 104)               43680     \n",
            "_________________________________________________________________\n",
            "dense_4 (Dense)              (None, 10)                1050      \n",
            "_________________________________________________________________\n",
            "dense_5 (Dense)              (None, 3)                 33        \n",
            "=================================================================\n",
            "Total params: 984,923\n",
            "Trainable params: 984,923\n",
            "Non-trainable params: 0\n",
            "_________________________________________________________________\n"
          ],
          "name": "stdout"
        }
      ]
    },
    {
      "cell_type": "code",
      "metadata": {
        "id": "HyDsH7Osa7qr"
      },
      "source": [
        "model2.compile(loss= \"categorical_crossentropy\", optimizer=\"adam\", metrics=[\"accuracy\"])"
      ],
      "execution_count": null,
      "outputs": []
    },
    {
      "cell_type": "code",
      "metadata": {
        "id": "LxAGD1PMa_Re",
        "colab": {
          "base_uri": "https://localhost:8080/"
        },
        "outputId": "b42b0db4-40ca-4a4e-8d25-0d07c722b02e"
      },
      "source": [
        "print(X_train.shape, y_train.shape)"
      ],
      "execution_count": null,
      "outputs": [
        {
          "output_type": "stream",
          "text": [
            "(193776, 52) (193776, 3)\n"
          ],
          "name": "stdout"
        }
      ]
    },
    {
      "cell_type": "code",
      "metadata": {
        "id": "UypAGz2FbBWR",
        "colab": {
          "base_uri": "https://localhost:8080/"
        },
        "outputId": "4b9f0b49-f70d-40db-ceb1-0a98e127dc2b"
      },
      "source": [
        "x = model2.fit(X_train, y_train, epochs = 8, verbose=2, validation_data=(X_val,y_val), callbacks = [callback])\n",
        "#val_accuracy = model."
      ],
      "execution_count": null,
      "outputs": [
        {
          "output_type": "stream",
          "text": [
            "Epoch 1/8\n",
            "6056/6056 - 145s - loss: 0.5812 - accuracy: 0.7591 - val_loss: 0.5019 - val_accuracy: 0.7887\n",
            "Epoch 2/8\n",
            "6056/6056 - 140s - loss: 0.4533 - accuracy: 0.8102 - val_loss: 0.4757 - val_accuracy: 0.7992\n",
            "Epoch 3/8\n",
            "6056/6056 - 140s - loss: 0.4042 - accuracy: 0.8296 - val_loss: 0.4713 - val_accuracy: 0.8023\n",
            "Epoch 4/8\n",
            "6056/6056 - 140s - loss: 0.3719 - accuracy: 0.8418 - val_loss: 0.4760 - val_accuracy: 0.8072\n",
            "Epoch 5/8\n",
            "6056/6056 - 141s - loss: 0.3460 - accuracy: 0.8518 - val_loss: 0.4817 - val_accuracy: 0.8054\n",
            "Epoch 6/8\n",
            "6056/6056 - 140s - loss: 0.3246 - accuracy: 0.8599 - val_loss: 0.4991 - val_accuracy: 0.8027\n",
            "Epoch 7/8\n",
            "6056/6056 - 140s - loss: 0.3055 - accuracy: 0.8676 - val_loss: 0.5151 - val_accuracy: 0.8016\n",
            "Epoch 8/8\n",
            "6056/6056 - 140s - loss: 0.2883 - accuracy: 0.8737 - val_loss: 0.5458 - val_accuracy: 0.7953\n"
          ],
          "name": "stdout"
        }
      ]
    },
    {
      "cell_type": "code",
      "metadata": {
        "id": "59_DPhBebNRA",
        "colab": {
          "base_uri": "https://localhost:8080/"
        },
        "outputId": "e9775653-9156-421f-b9d6-c31c10f682a2"
      },
      "source": [
        "print(X_test.shape,y_test.shape)"
      ],
      "execution_count": null,
      "outputs": [
        {
          "output_type": "stream",
          "text": [
            "(23924, 52) (23924, 3)\n"
          ],
          "name": "stdout"
        }
      ]
    },
    {
      "cell_type": "code",
      "metadata": {
        "id": "Pvp3u8tEbPHe",
        "colab": {
          "base_uri": "https://localhost:8080/"
        },
        "outputId": "5147f06b-58a4-445c-f55a-b9cf7e83c80e"
      },
      "source": [
        "scores = model2.evaluate(X_test, y_test, verbose=2)\n",
        "print('Test accuracy:', scores[1])"
      ],
      "execution_count": null,
      "outputs": [
        {
          "output_type": "stream",
          "text": [
            "748/748 - 7s - loss: 0.5487 - accuracy: 0.7999\n",
            "Test accuracy: 0.799866259098053\n"
          ],
          "name": "stdout"
        }
      ]
    },
    {
      "cell_type": "code",
      "metadata": {
        "id": "8CPEsKEcbUun",
        "colab": {
          "base_uri": "https://localhost:8080/",
          "height": 295
        },
        "outputId": "87866221-1f8a-45fe-dfbe-73cccb7a85d1"
      },
      "source": [
        "history = x\n",
        "import matplotlib.pyplot as plt\n",
        "plt.plot(history.history['accuracy'], 'b')\n",
        "plt.plot(history.history['val_accuracy'], 'r')\n",
        "plt.title('Model Accuracy'),\n",
        "plt.xlabel('Epochs')\n",
        "plt.ylabel('Accuracy')\n",
        "plt.legend(['Train', 'Validation'], loc='upper left')\n",
        "plt.show()"
      ],
      "execution_count": null,
      "outputs": [
        {
          "output_type": "display_data",
          "data": {
            "image/png": "[encoded data removed]",
            "text/plain": [
              "<Figure size 432x288 with 1 Axes>"
            ]
          },
          "metadata": {
            "needs_background": "light"
          }
        }
      ]
    },
    {
      "cell_type": "code",
      "metadata": {
        "id": "FX_5ha3lbbHo"
      },
      "source": [
        "model2.save('model2.h5')"
      ],
      "execution_count": null,
      "outputs": []
    },
    {
      "cell_type": "code",
      "metadata": {
        "id": "1Xb8d7yqFJba"
      },
      "source": [
        "a.append(model2)"
      ],
      "execution_count": null,
      "outputs": []
    },
    {
      "cell_type": "markdown",
      "metadata": {
        "id": "1tu0qTf4blvH"
      },
      "source": [
        "### Model3"
      ]
    },
    {
      "cell_type": "code",
      "metadata": {
        "id": "s3d-vfe9bkeG"
      },
      "source": [
        "model3 = keras.models.Sequential()\n",
        "model3.add(keras.layers.Embedding(18079+1, 52, input_length=52))\n",
        "model3.add(keras.layers.GlobalAveragePooling1D())\n",
        "model3.add(keras.layers.Dense(30, activation=\"relu\"))\n",
        "model3.add(keras.layers.Dense(10, activation=\"relu\"))\n",
        "model3.add(keras.layers.Dense(3, activation=\"softmax\"))"
      ],
      "execution_count": null,
      "outputs": []
    },
    {
      "cell_type": "code",
      "metadata": {
        "id": "QENdFu0kb_eR",
        "colab": {
          "base_uri": "https://localhost:8080/"
        },
        "outputId": "e9fe3a92-7d3f-4a98-80a1-2260a4f6dc03"
      },
      "source": [
        "model3.summary()"
      ],
      "execution_count": null,
      "outputs": [
        {
          "output_type": "stream",
          "text": [
            "Model: \"sequential_3\"\n",
            "_________________________________________________________________\n",
            "Layer (type)                 Output Shape              Param #   \n",
            "=================================================================\n",
            "embedding_3 (Embedding)      (None, 52, 52)            940160    \n",
            "_________________________________________________________________\n",
            "global_average_pooling1d (Gl (None, 52)                0         \n",
            "_________________________________________________________________\n",
            "dense_6 (Dense)              (None, 30)                1590      \n",
            "_________________________________________________________________\n",
            "dense_7 (Dense)              (None, 10)                310       \n",
            "_________________________________________________________________\n",
            "dense_8 (Dense)              (None, 3)                 33        \n",
            "=================================================================\n",
            "Total params: 942,093\n",
            "Trainable params: 942,093\n",
            "Non-trainable params: 0\n",
            "_________________________________________________________________\n"
          ],
          "name": "stdout"
        }
      ]
    },
    {
      "cell_type": "code",
      "metadata": {
        "id": "SGi_JucKcFZM"
      },
      "source": [
        "model3.compile(loss= \"categorical_crossentropy\", optimizer=\"adam\", metrics=[\"accuracy\"])"
      ],
      "execution_count": null,
      "outputs": []
    },
    {
      "cell_type": "code",
      "metadata": {
        "id": "O9YGo8mJcGE9",
        "colab": {
          "base_uri": "https://localhost:8080/"
        },
        "outputId": "2d942884-8d9a-4e0a-fed0-9b5a8aaf3e23"
      },
      "source": [
        "print(X_train.shape, y_train.shape)"
      ],
      "execution_count": null,
      "outputs": [
        {
          "output_type": "stream",
          "text": [
            "(193776, 52) (193776, 3)\n"
          ],
          "name": "stdout"
        }
      ]
    },
    {
      "cell_type": "code",
      "metadata": {
        "id": "QPa75KqIcLeq",
        "colab": {
          "base_uri": "https://localhost:8080/"
        },
        "outputId": "313d541a-4a37-4b95-c5dc-d80b87b27dd6"
      },
      "source": [
        "x = model3.fit(X_train, y_train, epochs = 8, verbose=2, validation_data=(X_val,y_val), callbacks = [callback])"
      ],
      "execution_count": null,
      "outputs": [
        {
          "output_type": "stream",
          "text": [
            "Epoch 1/8\n",
            "6056/6056 - 30s - loss: 0.6364 - accuracy: 0.7369 - val_loss: 0.5316 - val_accuracy: 0.7816\n",
            "Epoch 2/8\n",
            "6056/6056 - 28s - loss: 0.4929 - accuracy: 0.7976 - val_loss: 0.5207 - val_accuracy: 0.7903\n",
            "Epoch 3/8\n",
            "6056/6056 - 28s - loss: 0.4568 - accuracy: 0.8133 - val_loss: 0.4982 - val_accuracy: 0.7970\n",
            "Epoch 4/8\n",
            "6056/6056 - 28s - loss: 0.4321 - accuracy: 0.8216 - val_loss: 0.5149 - val_accuracy: 0.7944\n",
            "Epoch 5/8\n",
            "6056/6056 - 29s - loss: 0.4121 - accuracy: 0.8301 - val_loss: 0.4996 - val_accuracy: 0.7951\n",
            "Epoch 6/8\n",
            "6056/6056 - 30s - loss: 0.3976 - accuracy: 0.8355 - val_loss: 0.4970 - val_accuracy: 0.7990\n",
            "Epoch 7/8\n",
            "6056/6056 - 28s - loss: 0.3847 - accuracy: 0.8397 - val_loss: 0.4974 - val_accuracy: 0.8004\n",
            "Epoch 8/8\n",
            "6056/6056 - 30s - loss: 0.3738 - accuracy: 0.8442 - val_loss: 0.5194 - val_accuracy: 0.7981\n"
          ],
          "name": "stdout"
        }
      ]
    },
    {
      "cell_type": "code",
      "metadata": {
        "colab": {
          "base_uri": "https://localhost:8080/",
          "height": 35
        },
        "id": "o_lQeSirHb8z",
        "outputId": "3dcff88f-02fa-4e83-c063-5b4af709ff0a"
      },
      "source": [
        "model3.layers[0].name"
      ],
      "execution_count": null,
      "outputs": [
        {
          "output_type": "execute_result",
          "data": {
            "application/vnd.google.colaboratory.intrinsic+json": {
              "type": "string"
            },
            "text/plain": [
              "'embedding_3'"
            ]
          },
          "metadata": {},
          "execution_count": 64
        }
      ]
    },
    {
      "cell_type": "code",
      "metadata": {
        "id": "FmDgh3xfcO4Y",
        "colab": {
          "base_uri": "https://localhost:8080/"
        },
        "outputId": "1b4d2216-2a2f-4ae9-a967-1df098109f14"
      },
      "source": [
        "print(X_test.shape,y_test.shape)"
      ],
      "execution_count": null,
      "outputs": [
        {
          "output_type": "stream",
          "text": [
            "(23924, 52) (23924, 3)\n"
          ],
          "name": "stdout"
        }
      ]
    },
    {
      "cell_type": "code",
      "metadata": {
        "id": "vJK9hJUlcRyx",
        "colab": {
          "base_uri": "https://localhost:8080/"
        },
        "outputId": "04d9d5b2-0b4e-4b92-edb6-32e8e03b3a19"
      },
      "source": [
        "scores = model3.evaluate(X_test, y_test, verbose=2)\n",
        "print('Test accuracy:', scores[1])"
      ],
      "execution_count": null,
      "outputs": [
        {
          "output_type": "stream",
          "text": [
            "748/748 - 2s - loss: 0.5208 - accuracy: 0.7979\n",
            "Test accuracy: 0.7978599071502686\n"
          ],
          "name": "stdout"
        }
      ]
    },
    {
      "cell_type": "code",
      "metadata": {
        "id": "DW7CWk15cWIv",
        "colab": {
          "base_uri": "https://localhost:8080/",
          "height": 295
        },
        "outputId": "cebc2bc6-f579-44cd-93cb-d87ce1726c35"
      },
      "source": [
        "history = x\n",
        "import matplotlib.pyplot as plt\n",
        "plt.plot(history.history['accuracy'], 'b')\n",
        "plt.plot(history.history['val_accuracy'], 'r')\n",
        "plt.title('Model Accuracy'),\n",
        "plt.xlabel('Epochs')\n",
        "plt.ylabel('Accuracy')\n",
        "plt.legend(['Train', 'Validation'], loc='upper left')\n",
        "plt.show()"
      ],
      "execution_count": null,
      "outputs": [
        {
          "output_type": "display_data",
          "data": {
            "image/png": "[encoded data removed]",
            "text/plain": [
              "<Figure size 432x288 with 1 Axes>"
            ]
          },
          "metadata": {
            "needs_background": "light"
          }
        }
      ]
    },
    {
      "cell_type": "code",
      "metadata": {
        "id": "Raq3QoytcZC6"
      },
      "source": [
        "model3.save('model3.h5')"
      ],
      "execution_count": null,
      "outputs": []
    },
    {
      "cell_type": "code",
      "metadata": {
        "id": "g_sFv1tKGw6U"
      },
      "source": [
        "a.append(model3)"
      ],
      "execution_count": null,
      "outputs": []
    },
    {
      "cell_type": "code",
      "metadata": {
        "id": "LF_Ap9mcNSM6"
      },
      "source": [
        "from tensorflow.keras.layers import Concatenate\n",
        "from tensorflow.keras.utils import plot_model"
      ],
      "execution_count": null,
      "outputs": []
    },
    {
      "cell_type": "code",
      "metadata": {
        "id": "cQxie1X2O03F"
      },
      "source": [
        "#from tensorflow.keras.utils import to_categorical"
      ],
      "execution_count": null,
      "outputs": []
    },
    {
      "cell_type": "code",
      "metadata": {
        "id": "UOo04hWCBDAe"
      },
      "source": [
        "def define_stacked_model(members):\n",
        "\t# update all layers in all models to not be trainable\n",
        "  #print(members)\n",
        "  for i in range(len(members)):\n",
        "    model = members[i]\n",
        "    for layer in model.layers:\n",
        "      layer.trainable = False\n",
        "\t\t\t\n",
        "\t# define multi-headed input\n",
        "  ensemble_visible = [model.input for model in members]\n",
        "  # concatenate merge output from each model\n",
        "  ensemble_outputs = [model.output for model in members]\n",
        "  merge = Concatenate()(ensemble_outputs)\n",
        "  #print(merge, type(merge))\n",
        "  \n",
        "  hidden = keras.layers.Dense(7, activation='relu')(merge)\n",
        "  output = keras.layers.Dense(3, activation='softmax')(hidden)\n",
        "  model = tf.keras.Model(inputs=ensemble_visible, outputs=output)\n",
        "  plot_model(model, show_shapes=True, to_file='model.png')\n",
        "\t# compile\n",
        "  model.compile(loss='categorical_crossentropy', optimizer='adam', metrics=['accuracy'])\n",
        "  return model"
      ],
      "execution_count": null,
      "outputs": []
    },
    {
      "cell_type": "code",
      "metadata": {
        "colab": {
          "base_uri": "https://localhost:8080/"
        },
        "id": "9Z917iy_HviV",
        "outputId": "7d794570-e06f-48a0-bf58-2e863bf1965f"
      },
      "source": [
        "a"
      ],
      "execution_count": null,
      "outputs": [
        {
          "output_type": "execute_result",
          "data": {
            "text/plain": [
              "[<keras.engine.sequential.Sequential at 0x7f0e4eb6c490>,\n",
              " <keras.engine.sequential.Sequential at 0x7f0e4e3930d0>,\n",
              " <keras.engine.sequential.Sequential at 0x7f0e4d232710>]"
            ]
          },
          "metadata": {},
          "execution_count": 72
        }
      ]
    },
    {
      "cell_type": "code",
      "metadata": {
        "colab": {
          "base_uri": "https://localhost:8080/"
        },
        "id": "u4AWONQdBMJ0",
        "outputId": "3040e29e-6366-47e2-b8b5-ac0f03ad6906"
      },
      "source": [
        "stacked_model = define_stacked_model(a)\n",
        "stacked_model"
      ],
      "execution_count": null,
      "outputs": [
        {
          "output_type": "execute_result",
          "data": {
            "text/plain": [
              "<keras.engine.functional.Functional at 0x7f0e4cf1e9d0>"
            ]
          },
          "metadata": {},
          "execution_count": 73
        }
      ]
    },
    {
      "cell_type": "code",
      "metadata": {
        "colab": {
          "base_uri": "https://localhost:8080/"
        },
        "id": "yWkg78MWSq8D",
        "outputId": "f453de09-ad6a-43be-8278-0f078e29707a"
      },
      "source": [
        "stacked_model.input"
      ],
      "execution_count": null,
      "outputs": [
        {
          "output_type": "execute_result",
          "data": {
            "text/plain": [
              "[<KerasTensor: shape=(None, 52) dtype=float32 (created by layer 'embedding_1_input')>,\n",
              " <KerasTensor: shape=(None, 52) dtype=float32 (created by layer 'embedding_2_input')>,\n",
              " <KerasTensor: shape=(None, 52) dtype=float32 (created by layer 'embedding_3_input')>]"
            ]
          },
          "metadata": {},
          "execution_count": 74
        }
      ]
    },
    {
      "cell_type": "code",
      "metadata": {
        "colab": {
          "base_uri": "https://localhost:8080/"
        },
        "id": "G57VCnXlPu9O",
        "outputId": "7976e670-51be-4f73-944e-fb6af52c8860"
      },
      "source": [
        "X_val"
      ],
      "execution_count": null,
      "outputs": [
        {
          "output_type": "execute_result",
          "data": {
            "text/plain": [
              "array([[    0,     0,     0, ...,     0,     2,  8937],\n",
              "       [    0,     0,     0, ...,  5506,     5, 10107],\n",
              "       [    0,     0,     0, ...,    17,  9149,  9150],\n",
              "       ...,\n",
              "       [    0,     0,     0, ...,    14,   915,     5],\n",
              "       [    0,     0,     0, ...,   875,  1601,    16],\n",
              "       [    0,     0,     0, ...,  7013,    38,  2831]], dtype=int32)"
            ]
          },
          "metadata": {},
          "execution_count": 75
        }
      ]
    },
    {
      "cell_type": "code",
      "metadata": {
        "colab": {
          "base_uri": "https://localhost:8080/"
        },
        "id": "KeScyzKRPzDR",
        "outputId": "fc22d23b-7376-477a-9957-23ba28361876"
      },
      "source": [
        "y_val.shape"
      ],
      "execution_count": null,
      "outputs": [
        {
          "output_type": "execute_result",
          "data": {
            "text/plain": [
              "(21531, 3)"
            ]
          },
          "metadata": {},
          "execution_count": 76
        }
      ]
    },
    {
      "cell_type": "code",
      "metadata": {
        "colab": {
          "base_uri": "https://localhost:8080/"
        },
        "id": "_BK-nFteXSBp",
        "outputId": "df95ad2f-961a-47eb-a74f-90d7d21e4b0c"
      },
      "source": [
        "type(stacked_model)"
      ],
      "execution_count": null,
      "outputs": [
        {
          "output_type": "execute_result",
          "data": {
            "text/plain": [
              "keras.engine.functional.Functional"
            ]
          },
          "metadata": {},
          "execution_count": 77
        }
      ]
    },
    {
      "cell_type": "code",
      "metadata": {
        "id": "zAZve_oMaLDy"
      },
      "source": [
        "pal = [X_val,X_val,X_val]"
      ],
      "execution_count": null,
      "outputs": []
    },
    {
      "cell_type": "code",
      "metadata": {
        "colab": {
          "base_uri": "https://localhost:8080/"
        },
        "id": "ZTr2PjSWUqwX",
        "outputId": "b99f8b24-eb20-4b7c-ca3f-6fb4600c4261"
      },
      "source": [
        "histoy = stacked_model.fit(pal, y_val,epochs = 3, verbose = 2)"
      ],
      "execution_count": null,
      "outputs": [
        {
          "output_type": "stream",
          "text": [
            "Epoch 1/3\n",
            "673/673 - 15s - loss: 0.5599 - accuracy: 0.7897\n",
            "Epoch 2/3\n",
            "673/673 - 10s - loss: 0.4694 - accuracy: 0.8102\n",
            "Epoch 3/3\n",
            "673/673 - 10s - loss: 0.4642 - accuracy: 0.8102\n"
          ],
          "name": "stdout"
        }
      ]
    },
    {
      "cell_type": "code",
      "metadata": {
        "id": "N2F6-mgfbTty"
      },
      "source": [
        "pala = [X_test,X_test,X_test]"
      ],
      "execution_count": null,
      "outputs": []
    },
    {
      "cell_type": "code",
      "metadata": {
        "colab": {
          "base_uri": "https://localhost:8080/"
        },
        "id": "OlyjSMdNbBZk",
        "outputId": "8b1d5c96-e47b-47c4-9fa8-f402036c7fb4"
      },
      "source": [
        "scoreeee = stacked_model.evaluate(pala,y_test,verbose = 2)\n",
        "print(scoreeee[1])"
      ],
      "execution_count": null,
      "outputs": [
        {
          "output_type": "stream",
          "text": [
            "748/748 - 12s - loss: 0.4645 - accuracy: 0.8089\n",
            "0.808853030204773\n"
          ],
          "name": "stdout"
        }
      ]
    },
    {
      "cell_type": "code",
      "metadata": {
        "id": "6Jy2WD2dcKhi"
      },
      "source": [
        "stacked_model.save('bangon.h5')"
      ],
      "execution_count": null,
      "outputs": []
    }
  ]
}