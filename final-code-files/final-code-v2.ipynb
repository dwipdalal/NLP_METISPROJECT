{
  "nbformat": 4,
  "nbformat_minor": 0,
  "metadata": {
    "colab": {
      "name": "Final code",
      "provenance": [],
      "collapsed_sections": []
    },
    "kernelspec": {
      "display_name": "Python 3",
      "name": "python3"
    },
    "language_info": {
      "name": "python"
    },
    "accelerator": "GPU"
  },
  "cells": [
    {
      "cell_type": "markdown",
      "metadata": {
        "id": "WXK9tzAqdplb"
      },
      "source": [
        "# Sentiment analysis using Stacking of three submodels: LSTM, Bidirectional LSTM, Feed forward neural networks"
      ]
    },
    {
      "cell_type": "code",
      "metadata": {
        "id": "54dRo4Emv2IR"
      },
      "source": [
        "# importing certain libraries that shall be usefull for reading and excecuting the code\n",
        "import numpy as np\n",
        "import pandas as pd\n",
        "import tensorflow as tf\n",
        "from tensorflow import keras\n",
        "from tensorflow.keras.preprocessing.text import Tokenizer "
      ],
      "execution_count": 1,
      "outputs": []
    },
    {
      "cell_type": "code",
      "metadata": {
        "id": "UrYPxI7OApLT",
        "colab": {
          "base_uri": "https://localhost:8080/",
          "height": 206
        },
        "outputId": "c23c1406-d860-4476-8d54-1bdbc13f32c1"
      },
      "source": [
        "sentiments = pd.read_csv('https://raw.githubusercontent.com/dwipdalal/Sentiment-Analysis-using-Ensemble-Learning/main/dataset/sentiment_labels.txt', delimiter='|')\n",
        "sentiments.head()\n",
        "# this is the dataset of sentiment values corresponding to the phrase id. "
      ],
      "execution_count": 2,
      "outputs": [
        {
          "output_type": "execute_result",
          "data": {
            "text/html": [
              "<div>\n",
              "<style scoped>\n",
              "    .dataframe tbody tr th:only-of-type {\n",
              "        vertical-align: middle;\n",
              "    }\n",
              "\n",
              "    .dataframe tbody tr th {\n",
              "        vertical-align: top;\n",
              "    }\n",
              "\n",
              "    .dataframe thead th {\n",
              "        text-align: right;\n",
              "    }\n",
              "</style>\n",
              "<table border=\"1\" class=\"dataframe\">\n",
              "  <thead>\n",
              "    <tr style=\"text-align: right;\">\n",
              "      <th></th>\n",
              "      <th>phrase ids</th>\n",
              "      <th>sentiment values</th>\n",
              "    </tr>\n",
              "  </thead>\n",
              "  <tbody>\n",
              "    <tr>\n",
              "      <th>0</th>\n",
              "      <td>0</td>\n",
              "      <td>0.50000</td>\n",
              "    </tr>\n",
              "    <tr>\n",
              "      <th>1</th>\n",
              "      <td>1</td>\n",
              "      <td>0.50000</td>\n",
              "    </tr>\n",
              "    <tr>\n",
              "      <th>2</th>\n",
              "      <td>2</td>\n",
              "      <td>0.44444</td>\n",
              "    </tr>\n",
              "    <tr>\n",
              "      <th>3</th>\n",
              "      <td>3</td>\n",
              "      <td>0.50000</td>\n",
              "    </tr>\n",
              "    <tr>\n",
              "      <th>4</th>\n",
              "      <td>4</td>\n",
              "      <td>0.42708</td>\n",
              "    </tr>\n",
              "  </tbody>\n",
              "</table>\n",
              "</div>"
            ],
            "text/plain": [
              "   phrase ids  sentiment values\n",
              "0           0           0.50000\n",
              "1           1           0.50000\n",
              "2           2           0.44444\n",
              "3           3           0.50000\n",
              "4           4           0.42708"
            ]
          },
          "metadata": {},
          "execution_count": 2
        }
      ]
    },
    {
      "cell_type": "code",
      "metadata": {
        "id": "P0ewrHFsnoVN",
        "colab": {
          "base_uri": "https://localhost:8080/",
          "height": 237
        },
        "outputId": "d559f01d-92e4-4f7f-fd46-593db8bdbb0b"
      },
      "source": [
        "# this is dataset of phrases \n",
        "dataset_phrases = pd.read_csv('https://raw.githubusercontent.com/dwipdalal/Sentiment-Analysis-using-Ensemble-Learning/main/dataset/dictionary.txt',delimiter='|')\n",
        "\n",
        "# since for getting a good look of overall dataset is important so to put phrase and there sentiment values in a single column\n",
        "# the phrase in dataset_phrase are jumbled so for concating two dataset that is dataset_phrase and sentiments it is necessary to make the phrase id column of both in same order so we shall sort the dataset_phrase\n",
        "dataset_phrases.sort_values('0',inplace = True)\n",
        "dataset_phrases.set_index('0', inplace=True)\n",
        "dataset_phrases.head()"
      ],
      "execution_count": 3,
      "outputs": [
        {
          "output_type": "execute_result",
          "data": {
            "text/html": [
              "<div>\n",
              "<style scoped>\n",
              "    .dataframe tbody tr th:only-of-type {\n",
              "        vertical-align: middle;\n",
              "    }\n",
              "\n",
              "    .dataframe tbody tr th {\n",
              "        vertical-align: top;\n",
              "    }\n",
              "\n",
              "    .dataframe thead th {\n",
              "        text-align: right;\n",
              "    }\n",
              "</style>\n",
              "<table border=\"1\" class=\"dataframe\">\n",
              "  <thead>\n",
              "    <tr style=\"text-align: right;\">\n",
              "      <th></th>\n",
              "      <th>!</th>\n",
              "    </tr>\n",
              "    <tr>\n",
              "      <th>0</th>\n",
              "      <th></th>\n",
              "    </tr>\n",
              "  </thead>\n",
              "  <tbody>\n",
              "    <tr>\n",
              "      <th>1</th>\n",
              "      <td>'</td>\n",
              "    </tr>\n",
              "    <tr>\n",
              "      <th>2</th>\n",
              "      <td>' (</td>\n",
              "    </tr>\n",
              "    <tr>\n",
              "      <th>3</th>\n",
              "      <td>' ( the cockettes</td>\n",
              "    </tr>\n",
              "    <tr>\n",
              "      <th>4</th>\n",
              "      <td>' ( the cockettes )</td>\n",
              "    </tr>\n",
              "    <tr>\n",
              "      <th>5</th>\n",
              "      <td>' ( the cockettes ) provides a window into a s...</td>\n",
              "    </tr>\n",
              "  </tbody>\n",
              "</table>\n",
              "</div>"
            ],
            "text/plain": [
              "                                                   !\n",
              "0                                                   \n",
              "1                                                  '\n",
              "2                                                ' (\n",
              "3                                  ' ( the cockettes\n",
              "4                                ' ( the cockettes )\n",
              "5  ' ( the cockettes ) provides a window into a s..."
            ]
          },
          "metadata": {},
          "execution_count": 3
        }
      ]
    },
    {
      "cell_type": "code",
      "metadata": {
        "id": "szOozdk7ot-v",
        "colab": {
          "base_uri": "https://localhost:8080/",
          "height": 206
        },
        "outputId": "f405f270-1cb6-4442-c418-d8548863af17"
      },
      "source": [
        "df = pd.concat([dataset_phrases,sentiments], axis=1)\n",
        "df.head()\n",
        "df.shape\n",
        "df.tail()"
      ],
      "execution_count": 4,
      "outputs": [
        {
          "output_type": "execute_result",
          "data": {
            "text/html": [
              "<div>\n",
              "<style scoped>\n",
              "    .dataframe tbody tr th:only-of-type {\n",
              "        vertical-align: middle;\n",
              "    }\n",
              "\n",
              "    .dataframe tbody tr th {\n",
              "        vertical-align: top;\n",
              "    }\n",
              "\n",
              "    .dataframe thead th {\n",
              "        text-align: right;\n",
              "    }\n",
              "</style>\n",
              "<table border=\"1\" class=\"dataframe\">\n",
              "  <thead>\n",
              "    <tr style=\"text-align: right;\">\n",
              "      <th></th>\n",
              "      <th>!</th>\n",
              "      <th>phrase ids</th>\n",
              "      <th>sentiment values</th>\n",
              "    </tr>\n",
              "  </thead>\n",
              "  <tbody>\n",
              "    <tr>\n",
              "      <th>239227</th>\n",
              "      <td>your standard Hollywood bio-pic</td>\n",
              "      <td>239227</td>\n",
              "      <td>0.36111</td>\n",
              "    </tr>\n",
              "    <tr>\n",
              "      <th>239228</th>\n",
              "      <td>your typical ` fish out of water ' story</td>\n",
              "      <td>239228</td>\n",
              "      <td>0.38889</td>\n",
              "    </tr>\n",
              "    <tr>\n",
              "      <th>239229</th>\n",
              "      <td>zero .</td>\n",
              "      <td>239229</td>\n",
              "      <td>0.33333</td>\n",
              "    </tr>\n",
              "    <tr>\n",
              "      <th>239230</th>\n",
              "      <td>zippy jazzy score</td>\n",
              "      <td>239230</td>\n",
              "      <td>0.88889</td>\n",
              "    </tr>\n",
              "    <tr>\n",
              "      <th>239231</th>\n",
              "      <td>UNK</td>\n",
              "      <td>239231</td>\n",
              "      <td>0.50000</td>\n",
              "    </tr>\n",
              "  </tbody>\n",
              "</table>\n",
              "</div>"
            ],
            "text/plain": [
              "                                               !  phrase ids  sentiment values\n",
              "239227           your standard Hollywood bio-pic      239227           0.36111\n",
              "239228  your typical ` fish out of water ' story      239228           0.38889\n",
              "239229                                    zero .      239229           0.33333\n",
              "239230                         zippy jazzy score      239230           0.88889\n",
              "239231                                       UNK      239231           0.50000"
            ]
          },
          "metadata": {},
          "execution_count": 4
        }
      ]
    },
    {
      "cell_type": "code",
      "metadata": {
        "id": "lB_pW-p_ejD3",
        "colab": {
          "base_uri": "https://localhost:8080/"
        },
        "outputId": "fb20fc0c-dd5f-48a5-8184-a168c23e6dd5"
      },
      "source": [
        "#missing value remover\n",
        "df.isnull()\n",
        "df.dropna(how = 'any', axis = 0, inplace = True)\n",
        "df.shape\n",
        "# this shows that there are no null values"
      ],
      "execution_count": 5,
      "outputs": [
        {
          "output_type": "execute_result",
          "data": {
            "text/plain": [
              "(239231, 3)"
            ]
          },
          "metadata": {},
          "execution_count": 5
        }
      ]
    },
    {
      "cell_type": "code",
      "metadata": {
        "id": "mmeGXpjlyyuc",
        "colab": {
          "base_uri": "https://localhost:8080/"
        },
        "outputId": "4c759150-d4ed-4d40-8d4b-cc6d0c2b03bd"
      },
      "source": [
        "# since the sentiment values are fractions and since we have to perform 3 class classifcation we have divided fractional values into 3 classes.\n",
        "# 0 - [0, 0.333]\n",
        "# 1 - [0.333, 0.666]\n",
        "# 2 - [0.333, 0.666]\n",
        "p = []\n",
        "a = 0.333\n",
        "b = 0.666\n",
        "for i in list(df['sentiment values']):\n",
        "  if (i>=0 and i<=a): \n",
        "    p.append(0)\n",
        "  elif i>a and i<=b:\n",
        "    p.append(1)\n",
        "  else:\n",
        "    p.append(2)\n",
        "len(p)"
      ],
      "execution_count": 6,
      "outputs": [
        {
          "output_type": "execute_result",
          "data": {
            "text/plain": [
              "239231"
            ]
          },
          "metadata": {},
          "execution_count": 6
        }
      ]
    },
    {
      "cell_type": "code",
      "metadata": {
        "id": "Ws6aG70YF_I9",
        "colab": {
          "base_uri": "https://localhost:8080/",
          "height": 411
        },
        "outputId": "1c900d2a-9f04-42d5-8cc4-e254b140fbdf"
      },
      "source": [
        "import matplotlib.pyplot as plt\n",
        "def func(pct, allvalues):\n",
        "    absolute = int(pct / 100.*np.sum(allvalues))\n",
        "    return \"{:.1f}%\\n({:d})\".format(pct, absolute)\n",
        "one = p.count(1)\n",
        "zero = p.count(0)\n",
        "two = p.count(2)\n",
        "fig = plt.figure(figsize =(10, 7))\n",
        "plt.pie([zero,one,two], labels = ['negative','neutral','positive'], autopct = lambda pct: func(pct, [zero,one,two]))\n",
        "plt.show()"
      ],
      "execution_count": 7,
      "outputs": [
        {
          "output_type": "display_data",
          "data": {
            "image/png": "[encoded data removed]",
            "text/plain": [
              "<Figure size 720x504 with 1 Axes>"
            ]
          },
          "metadata": {}
        }
      ]
    },
    {
      "cell_type": "code",
      "metadata": {
        "id": "34PBnyhx1jDG"
      },
      "source": [
        "# to split dataset into training and testing part\n",
        "X = df['!'].astype('str')\n",
        "y = p\n",
        "from sklearn.model_selection import train_test_split\n",
        "X_train, X_test, y_train, y_test = train_test_split(X, y,stratify = y,test_size=0.1, random_state=42)\n",
        "# 10% of the original dataset shall be used for testing purposes \n",
        "# stratify locks the distribution of different class labels. I.e. ratios of distribution of class labels in train and test will be almost same"
      ],
      "execution_count": 8,
      "outputs": []
    },
    {
      "cell_type": "code",
      "metadata": {
        "id": "gtB-uOeFp3Aw"
      },
      "source": [
        "# this is for tokenizing the words, then each word of the tokenized list shall be given a specific index \n",
        "tokenizer = Tokenizer(oov_token= '<0VV>') # <0VV> is the token that the model shall replace the unseen words with. So if some word of the test case is not there in tokenized list then that word shall be replaces with 0VV this is done to maintain the size of the sentence. \n",
        "tokenizer.fit_on_texts(X_train.astype(str)) # we have to use astype(str) as there are some numbers in df[!]\n",
        "word_index_ = tokenizer.word_index # gives index to each word and then makes a dictionary of word and their indexes.\n",
        "\n",
        "\n",
        "# since computer does not understand letters so we shall make list of sequence of numbers that is replaces sentences with sequences of indexes corresponding to those words that shall be feeded to our neural network model.\n",
        "# the numbers that would constitue to this list are those numbers which are index of the corresponding words in the dictionary.\n",
        "sequence_train = tokenizer.texts_to_sequences(X_train)\n",
        "sequence_test = tokenizer.texts_to_sequences(X_test)\n"
      ],
      "execution_count": 9,
      "outputs": []
    },
    {
      "cell_type": "code",
      "metadata": {
        "id": "WQi0BBX64RKa"
      },
      "source": [
        "# different sentences has different length so we need to pad the sentences inorder to make all of them of same length before feeding them in our model\n",
        "from tensorflow.keras.preprocessing.sequence import pad_sequences\n",
        "padded_train = pad_sequences(sequence_train, maxlen= 52)\n",
        "padded_test = pad_sequences(sequence_test, maxlen= 52)"
      ],
      "execution_count": 10,
      "outputs": []
    },
    {
      "cell_type": "code",
      "metadata": {
        "id": "SdTP0mfs7FPl",
        "colab": {
          "base_uri": "https://localhost:8080/"
        },
        "outputId": "a328ddd2-a193-4c99-89f7-d19e029f6003"
      },
      "source": [
        "type(padded_test)"
      ],
      "execution_count": 11,
      "outputs": [
        {
          "output_type": "execute_result",
          "data": {
            "text/plain": [
              "numpy.ndarray"
            ]
          },
          "metadata": {},
          "execution_count": 11
        }
      ]
    },
    {
      "cell_type": "code",
      "metadata": {
        "id": "sd6K0jAHtfN9",
        "colab": {
          "base_uri": "https://localhost:8080/"
        },
        "outputId": "b6744fe5-797e-4d57-b8dc-93e20c17ff91"
      },
      "source": [
        "X_train = padded_train\n",
        "X_test = padded_test\n",
        "y_train = tf.keras.utils.to_categorical(y_train,num_classes= 3)\n",
        "y_train"
      ],
      "execution_count": 12,
      "outputs": [
        {
          "output_type": "execute_result",
          "data": {
            "text/plain": [
              "array([[0., 1., 0.],\n",
              "       [0., 0., 1.],\n",
              "       [0., 1., 0.],\n",
              "       ...,\n",
              "       [0., 1., 0.],\n",
              "       [0., 0., 1.],\n",
              "       [0., 1., 0.]], dtype=float32)"
            ]
          },
          "metadata": {},
          "execution_count": 12
        }
      ]
    },
    {
      "cell_type": "markdown",
      "metadata": {
        "id": "jDBbyDr55BkQ"
      },
      "source": [
        "# Early stopping\n",
        "To prevent overfitting of the model we shall be using early stopping. The corresponding callback function shall stop training when the validation accuracy does not increase for 3 consecutive epochs "
      ]
    },
    {
      "cell_type": "code",
      "metadata": {
        "id": "p-tnuX064pfo"
      },
      "source": [
        "callback= tf.keras.callbacks.EarlyStopping(monitor=\"val_accuracy\",patience=3, verbose=2, mode=\"auto\", restore_best_weights=True)\n",
        "# patience counts number of epochs with no developement and then stops the epochs"
      ],
      "execution_count": 13,
      "outputs": []
    },
    {
      "cell_type": "code",
      "metadata": {
        "id": "IMHNbEwcB3Ku"
      },
      "source": [
        "# list to append all of the three models\n",
        "a = []"
      ],
      "execution_count": 14,
      "outputs": []
    },
    {
      "cell_type": "code",
      "metadata": {
        "id": "Y18jQlu2Vqb2"
      },
      "source": [
        "X_train, X_val, y_train, y_val = train_test_split(X_train, y_train,stratify = y_train ,test_size=0.1)"
      ],
      "execution_count": 15,
      "outputs": []
    },
    {
      "cell_type": "markdown",
      "metadata": {
        "id": "uftsYEzvF0rW"
      },
      "source": [
        ""
      ]
    },
    {
      "cell_type": "markdown",
      "metadata": {
        "id": "Y1lhY3BDaS2r"
      },
      "source": [
        "### Model 1"
      ]
    },
    {
      "cell_type": "markdown",
      "metadata": {
        "id": "kdvq0loS7H6E"
      },
      "source": [
        "The sentences until now are just sequences of words and have no real meaning therefore we shall do word embedding to make sematic vectors. These vectors will be made by using the concept: meaning of the words is know by the company it has."
      ]
    },
    {
      "cell_type": "code",
      "metadata": {
        "id": "V3kjlfp32z09"
      },
      "source": [
        "from keras.layers import LSTM\n",
        "model1 = keras.models.Sequential()\n",
        "model1.add(keras.layers.Embedding(18079+1, 52, input_length=52)) \n",
        "model1.add(LSTM(100))\n",
        "model1.add(keras.layers.Dense(10, activation=\"relu\"))\n",
        "model1.add(keras.layers.Dense(3, activation=\"softmax\")) \n"
      ],
      "execution_count": 16,
      "outputs": []
    },
    {
      "cell_type": "code",
      "metadata": {
        "id": "atzmeZbZ5iHi",
        "colab": {
          "base_uri": "https://localhost:8080/"
        },
        "outputId": "2fc3028f-e87d-4900-ed9c-ab786cc035ce"
      },
      "source": [
        "model1.summary()"
      ],
      "execution_count": 17,
      "outputs": [
        {
          "output_type": "stream",
          "text": [
            "Model: \"sequential\"\n",
            "_________________________________________________________________\n",
            "Layer (type)                 Output Shape              Param #   \n",
            "=================================================================\n",
            "embedding (Embedding)        (None, 52, 52)            940160    \n",
            "_________________________________________________________________\n",
            "lstm (LSTM)                  (None, 100)               61200     \n",
            "_________________________________________________________________\n",
            "dense (Dense)                (None, 10)                1010      \n",
            "_________________________________________________________________\n",
            "dense_1 (Dense)              (None, 3)                 33        \n",
            "=================================================================\n",
            "Total params: 1,002,403\n",
            "Trainable params: 1,002,403\n",
            "Non-trainable params: 0\n",
            "_________________________________________________________________\n"
          ],
          "name": "stdout"
        }
      ]
    },
    {
      "cell_type": "code",
      "metadata": {
        "id": "Q0BcD0oo5oAk"
      },
      "source": [
        "model1.compile(loss= \"categorical_crossentropy\", optimizer=\"adam\", metrics=[\"accuracy\"])"
      ],
      "execution_count": 18,
      "outputs": []
    },
    {
      "cell_type": "markdown",
      "metadata": {
        "id": "Hbq4nc6iJaBj"
      },
      "source": [
        "By setting verbose 0, 1 or 2 you just say how do you want to 'see' the training progress for each epoch.\n",
        "\n",
        "verbose=0 will show you nothing (silent)\n",
        "\n",
        "verbose=1 will show you an animated progress bar \n",
        "\n",
        "verbose=2 will just mention the number of epoch like this:"
      ]
    },
    {
      "cell_type": "code",
      "metadata": {
        "colab": {
          "base_uri": "https://localhost:8080/"
        },
        "id": "6XxFLeyBDv_f",
        "outputId": "a4ea06a6-170e-4c45-e943-f5a8502e1cd6"
      },
      "source": [
        "y_val.shape"
      ],
      "execution_count": 19,
      "outputs": [
        {
          "output_type": "execute_result",
          "data": {
            "text/plain": [
              "(21531, 3)"
            ]
          },
          "metadata": {},
          "execution_count": 19
        }
      ]
    },
    {
      "cell_type": "code",
      "metadata": {
        "id": "dYUEFFDktEEx",
        "colab": {
          "base_uri": "https://localhost:8080/"
        },
        "outputId": "0036afe4-3ff8-47ea-8347-e43b50ebed63"
      },
      "source": [
        "#default batch size is 32\n",
        "history = model1.fit(X_train, y_train, epochs = 8, verbose=2, validation_data=(X_val,y_val), callbacks = [callback]) # the validation data should be provied as tuple or less there is a huge error in format matching"
      ],
      "execution_count": 20,
      "outputs": [
        {
          "output_type": "stream",
          "text": [
            "Epoch 1/8\n",
            "6056/6056 - 76s - loss: 0.5851 - accuracy: 0.7575 - val_loss: 0.5037 - val_accuracy: 0.7867\n",
            "Epoch 2/8\n",
            "6056/6056 - 66s - loss: 0.4528 - accuracy: 0.8099 - val_loss: 0.4867 - val_accuracy: 0.7991\n",
            "Epoch 3/8\n",
            "6056/6056 - 67s - loss: 0.4025 - accuracy: 0.8296 - val_loss: 0.4791 - val_accuracy: 0.8015\n",
            "Epoch 4/8\n",
            "6056/6056 - 69s - loss: 0.3702 - accuracy: 0.8422 - val_loss: 0.4837 - val_accuracy: 0.8021\n",
            "Epoch 5/8\n",
            "6056/6056 - 67s - loss: 0.3455 - accuracy: 0.8517 - val_loss: 0.5020 - val_accuracy: 0.7988\n",
            "Epoch 6/8\n",
            "6056/6056 - 67s - loss: 0.3235 - accuracy: 0.8594 - val_loss: 0.5099 - val_accuracy: 0.7982\n",
            "Epoch 7/8\n",
            "6056/6056 - 67s - loss: 0.3031 - accuracy: 0.8675 - val_loss: 0.5365 - val_accuracy: 0.7913\n",
            "Restoring model weights from the end of the best epoch.\n",
            "Epoch 00007: early stopping\n"
          ],
          "name": "stdout"
        }
      ]
    },
    {
      "cell_type": "code",
      "metadata": {
        "id": "il5HChrgi2N2",
        "colab": {
          "base_uri": "https://localhost:8080/"
        },
        "outputId": "c04506b2-ac78-4296-fb07-1287abeecd4b"
      },
      "source": [
        "y_test = tf.keras.utils.to_categorical(y_test, num_classes= 3)\n",
        "print(y_test.shape, X_test.shape)"
      ],
      "execution_count": 21,
      "outputs": [
        {
          "output_type": "stream",
          "text": [
            "(23924, 3) (23924, 52)\n"
          ],
          "name": "stdout"
        }
      ]
    },
    {
      "cell_type": "code",
      "metadata": {
        "id": "hYuTQr3Z24kc",
        "colab": {
          "base_uri": "https://localhost:8080/",
          "height": 295
        },
        "outputId": "b6e3fa50-9f19-4675-b30c-d43ef242f42b"
      },
      "source": [
        "# to plot the graph of accuracy vs epochs\n",
        "plt.plot(history.history['accuracy'], 'b')\n",
        "plt.plot(history.history['val_accuracy'], 'r')\n",
        "plt.title('Model Accuracy'),\n",
        "plt.xlabel('Epochs')\n",
        "plt.ylabel('Accuracy')\n",
        "plt.legend(['Train', 'Validation'], loc='upper left')\n",
        "plt.show()"
      ],
      "execution_count": 22,
      "outputs": [
        {
          "output_type": "display_data",
          "data": {
            "image/png": "[encoded data removed]",
            "text/plain": [
              "<Figure size 432x288 with 1 Axes>"
            ]
          },
          "metadata": {
            "needs_background": "light"
          }
        }
      ]
    },
    {
      "cell_type": "markdown",
      "metadata": {
        "id": "OhjiFtsU-Ai9"
      },
      "source": [
        "Since now our model is trianed so we shall find it's actuall accuracy. For doing that we shall pass unseen data into the model and then check the corresponing accuracy. The unseen data in this case is the test data. "
      ]
    },
    {
      "cell_type": "code",
      "metadata": {
        "id": "1wonrgsfJFWD",
        "colab": {
          "base_uri": "https://localhost:8080/"
        },
        "outputId": "32b81aa5-a3e2-405a-f3af-b32183aa0113"
      },
      "source": [
        "scores = model1.evaluate(X_test, y_test, verbose=0)\n",
        "print('Test accuracy:', scores[1])"
      ],
      "execution_count": 23,
      "outputs": [
        {
          "output_type": "stream",
          "text": [
            "Test accuracy: 0.8063451051712036\n"
          ],
          "name": "stdout"
        }
      ]
    },
    {
      "cell_type": "code",
      "metadata": {
        "id": "IVSdCTnF3CTL"
      },
      "source": [
        "model1.save('model1.h5')"
      ],
      "execution_count": 24,
      "outputs": []
    },
    {
      "cell_type": "code",
      "metadata": {
        "id": "6TmVrTTlB-4U"
      },
      "source": [
        "a.append(model1)"
      ],
      "execution_count": 25,
      "outputs": []
    },
    {
      "cell_type": "markdown",
      "metadata": {
        "id": "XddYZVn2asP-"
      },
      "source": [
        "### Model2"
      ]
    },
    {
      "cell_type": "code",
      "metadata": {
        "id": "PuSk7iBqajth"
      },
      "source": [
        "from keras.layers import LSTM\n",
        "from keras.layers import Bidirectional, Dense\n",
        "model2 = keras.models.Sequential()\n",
        "model2.add(keras.layers.Embedding(18079+1, 52, input_length=52))\n",
        "model2.add(Bidirectional(LSTM(52)))\n",
        "model2.add(keras.layers.Dense(10, activation=\"relu\"))\n",
        "model2.add(keras.layers.Dense(3, activation=\"softmax\"))"
      ],
      "execution_count": 26,
      "outputs": []
    },
    {
      "cell_type": "code",
      "metadata": {
        "id": "UJwxvqW9azt2",
        "colab": {
          "base_uri": "https://localhost:8080/"
        },
        "outputId": "b0dd39ce-c558-4163-e86c-9783bbe92832"
      },
      "source": [
        "model2.summary()"
      ],
      "execution_count": 27,
      "outputs": [
        {
          "output_type": "stream",
          "text": [
            "Model: \"sequential_1\"\n",
            "_________________________________________________________________\n",
            "Layer (type)                 Output Shape              Param #   \n",
            "=================================================================\n",
            "embedding_1 (Embedding)      (None, 52, 52)            940160    \n",
            "_________________________________________________________________\n",
            "bidirectional (Bidirectional (None, 104)               43680     \n",
            "_________________________________________________________________\n",
            "dense_2 (Dense)              (None, 10)                1050      \n",
            "_________________________________________________________________\n",
            "dense_3 (Dense)              (None, 3)                 33        \n",
            "=================================================================\n",
            "Total params: 984,923\n",
            "Trainable params: 984,923\n",
            "Non-trainable params: 0\n",
            "_________________________________________________________________\n"
          ],
          "name": "stdout"
        }
      ]
    },
    {
      "cell_type": "code",
      "metadata": {
        "id": "HyDsH7Osa7qr"
      },
      "source": [
        "model2.compile(loss= \"categorical_crossentropy\", optimizer=\"adam\", metrics=[\"accuracy\"])"
      ],
      "execution_count": 28,
      "outputs": []
    },
    {
      "cell_type": "code",
      "metadata": {
        "id": "LxAGD1PMa_Re",
        "colab": {
          "base_uri": "https://localhost:8080/"
        },
        "outputId": "d1bec2aa-0bb1-4313-d6ce-b2093d2c5ba4"
      },
      "source": [
        "print(X_train.shape, y_train.shape)"
      ],
      "execution_count": 29,
      "outputs": [
        {
          "output_type": "stream",
          "text": [
            "(193776, 52) (193776, 3)\n"
          ],
          "name": "stdout"
        }
      ]
    },
    {
      "cell_type": "code",
      "metadata": {
        "id": "UypAGz2FbBWR",
        "colab": {
          "base_uri": "https://localhost:8080/"
        },
        "outputId": "9ac1d2e7-8716-47b7-83dd-fb9ff7443eaa"
      },
      "source": [
        "x = model2.fit(X_train, y_train, epochs = 8, verbose=2, validation_data=(X_val,y_val), callbacks = [callback])\n"
      ],
      "execution_count": 30,
      "outputs": [
        {
          "output_type": "stream",
          "text": [
            "Epoch 1/8\n",
            "6056/6056 - 145s - loss: 0.5961 - accuracy: 0.7526 - val_loss: 0.5071 - val_accuracy: 0.7864\n",
            "Epoch 2/8\n",
            "6056/6056 - 141s - loss: 0.4538 - accuracy: 0.8095 - val_loss: 0.4779 - val_accuracy: 0.7991\n",
            "Epoch 3/8\n",
            "6056/6056 - 141s - loss: 0.4025 - accuracy: 0.8297 - val_loss: 0.4745 - val_accuracy: 0.8028\n",
            "Epoch 4/8\n",
            "6056/6056 - 142s - loss: 0.3682 - accuracy: 0.8433 - val_loss: 0.4935 - val_accuracy: 0.8028\n",
            "Epoch 5/8\n",
            "6056/6056 - 142s - loss: 0.3423 - accuracy: 0.8526 - val_loss: 0.4986 - val_accuracy: 0.7991\n",
            "Epoch 6/8\n",
            "6056/6056 - 142s - loss: 0.3205 - accuracy: 0.8616 - val_loss: 0.5191 - val_accuracy: 0.7962\n",
            "Restoring model weights from the end of the best epoch.\n",
            "Epoch 00006: early stopping\n"
          ],
          "name": "stdout"
        }
      ]
    },
    {
      "cell_type": "code",
      "metadata": {
        "id": "59_DPhBebNRA",
        "colab": {
          "base_uri": "https://localhost:8080/"
        },
        "outputId": "1f7f1ed0-978e-4496-fa2f-1bb5f55cd72f"
      },
      "source": [
        "print(X_test.shape,y_test.shape)"
      ],
      "execution_count": 31,
      "outputs": [
        {
          "output_type": "stream",
          "text": [
            "(23924, 52) (23924, 3)\n"
          ],
          "name": "stdout"
        }
      ]
    },
    {
      "cell_type": "code",
      "metadata": {
        "id": "Pvp3u8tEbPHe",
        "colab": {
          "base_uri": "https://localhost:8080/"
        },
        "outputId": "ce9e3934-c2d3-407d-e81f-511f3f61e24d"
      },
      "source": [
        "scores = model2.evaluate(X_test, y_test, verbose=2)\n",
        "print('Test accuracy:', scores[1])"
      ],
      "execution_count": 32,
      "outputs": [
        {
          "output_type": "stream",
          "text": [
            "748/748 - 7s - loss: 0.4693 - accuracy: 0.8053\n",
            "Test accuracy: 0.8053001165390015\n"
          ],
          "name": "stdout"
        }
      ]
    },
    {
      "cell_type": "code",
      "metadata": {
        "id": "8CPEsKEcbUun",
        "colab": {
          "base_uri": "https://localhost:8080/",
          "height": 295
        },
        "outputId": "b0b196b4-85b2-417a-daf7-5dc6beae4597"
      },
      "source": [
        "history = x\n",
        "plt.plot(history.history['accuracy'], 'b')\n",
        "plt.plot(history.history['val_accuracy'], 'r')\n",
        "plt.title('Model Accuracy'),\n",
        "plt.xlabel('Epochs')\n",
        "plt.ylabel('Accuracy')\n",
        "plt.legend(['Train', 'Validation'], loc='upper left')\n",
        "plt.show()"
      ],
      "execution_count": 33,
      "outputs": [
        {
          "output_type": "display_data",
          "data": {
            "image/png": "[encoded data removed]",
            "text/plain": [
              "<Figure size 432x288 with 1 Axes>"
            ]
          },
          "metadata": {
            "needs_background": "light"
          }
        }
      ]
    },
    {
      "cell_type": "code",
      "metadata": {
        "id": "FX_5ha3lbbHo"
      },
      "source": [
        "model2.save('model2.h5')"
      ],
      "execution_count": 34,
      "outputs": []
    },
    {
      "cell_type": "code",
      "metadata": {
        "id": "1Xb8d7yqFJba"
      },
      "source": [
        "a.append(model2)"
      ],
      "execution_count": 35,
      "outputs": []
    },
    {
      "cell_type": "markdown",
      "metadata": {
        "id": "1tu0qTf4blvH"
      },
      "source": [
        "### Model3"
      ]
    },
    {
      "cell_type": "code",
      "metadata": {
        "id": "s3d-vfe9bkeG"
      },
      "source": [
        "model3 = keras.models.Sequential()\n",
        "model3.add(keras.layers.Embedding(18079+1, 52, input_length=52))\n",
        "model3.add(keras.layers.GlobalAveragePooling1D())\n",
        "model3.add(keras.layers.Dense(30, activation=\"relu\"))\n",
        "model3.add(keras.layers.Dense(10, activation=\"relu\"))\n",
        "model3.add(keras.layers.Dense(3, activation=\"softmax\"))"
      ],
      "execution_count": 36,
      "outputs": []
    },
    {
      "cell_type": "code",
      "metadata": {
        "id": "QENdFu0kb_eR",
        "colab": {
          "base_uri": "https://localhost:8080/"
        },
        "outputId": "b1edb287-d774-4527-9e76-1ff24d647d3e"
      },
      "source": [
        "model3.summary()"
      ],
      "execution_count": 37,
      "outputs": [
        {
          "output_type": "stream",
          "text": [
            "Model: \"sequential_2\"\n",
            "_________________________________________________________________\n",
            "Layer (type)                 Output Shape              Param #   \n",
            "=================================================================\n",
            "embedding_2 (Embedding)      (None, 52, 52)            940160    \n",
            "_________________________________________________________________\n",
            "global_average_pooling1d (Gl (None, 52)                0         \n",
            "_________________________________________________________________\n",
            "dense_4 (Dense)              (None, 30)                1590      \n",
            "_________________________________________________________________\n",
            "dense_5 (Dense)              (None, 10)                310       \n",
            "_________________________________________________________________\n",
            "dense_6 (Dense)              (None, 3)                 33        \n",
            "=================================================================\n",
            "Total params: 942,093\n",
            "Trainable params: 942,093\n",
            "Non-trainable params: 0\n",
            "_________________________________________________________________\n"
          ],
          "name": "stdout"
        }
      ]
    },
    {
      "cell_type": "code",
      "metadata": {
        "id": "SGi_JucKcFZM"
      },
      "source": [
        "model3.compile(loss= \"categorical_crossentropy\", optimizer=\"adam\", metrics=[\"accuracy\"])"
      ],
      "execution_count": 38,
      "outputs": []
    },
    {
      "cell_type": "code",
      "metadata": {
        "id": "O9YGo8mJcGE9",
        "colab": {
          "base_uri": "https://localhost:8080/"
        },
        "outputId": "5ececc32-6d47-4ea0-8850-f672b341ecee"
      },
      "source": [
        "print(X_train.shape, y_train.shape)"
      ],
      "execution_count": 39,
      "outputs": [
        {
          "output_type": "stream",
          "text": [
            "(193776, 52) (193776, 3)\n"
          ],
          "name": "stdout"
        }
      ]
    },
    {
      "cell_type": "code",
      "metadata": {
        "id": "QPa75KqIcLeq",
        "colab": {
          "base_uri": "https://localhost:8080/"
        },
        "outputId": "e621c31c-3768-4c84-fae0-a1f32f455208"
      },
      "source": [
        "x = model3.fit(X_train, y_train, epochs = 8, verbose=2, validation_data=(X_val,y_val), callbacks = [callback])"
      ],
      "execution_count": 40,
      "outputs": [
        {
          "output_type": "stream",
          "text": [
            "Epoch 1/8\n",
            "6056/6056 - 26s - loss: 0.6522 - accuracy: 0.7328 - val_loss: 0.5313 - val_accuracy: 0.7818\n",
            "Epoch 2/8\n",
            "6056/6056 - 25s - loss: 0.4921 - accuracy: 0.7978 - val_loss: 0.5194 - val_accuracy: 0.7854\n",
            "Epoch 3/8\n",
            "6056/6056 - 26s - loss: 0.4547 - accuracy: 0.8111 - val_loss: 0.5094 - val_accuracy: 0.7888\n",
            "Epoch 4/8\n",
            "6056/6056 - 25s - loss: 0.4303 - accuracy: 0.8214 - val_loss: 0.5058 - val_accuracy: 0.7922\n",
            "Epoch 5/8\n",
            "6056/6056 - 25s - loss: 0.4114 - accuracy: 0.8293 - val_loss: 0.5079 - val_accuracy: 0.7993\n",
            "Epoch 6/8\n",
            "6056/6056 - 25s - loss: 0.3955 - accuracy: 0.8357 - val_loss: 0.5044 - val_accuracy: 0.8008\n",
            "Epoch 7/8\n",
            "6056/6056 - 24s - loss: 0.3829 - accuracy: 0.8406 - val_loss: 0.5117 - val_accuracy: 0.7982\n",
            "Epoch 8/8\n",
            "6056/6056 - 24s - loss: 0.3707 - accuracy: 0.8456 - val_loss: 0.5300 - val_accuracy: 0.7981\n"
          ],
          "name": "stdout"
        }
      ]
    },
    {
      "cell_type": "code",
      "metadata": {
        "id": "vJK9hJUlcRyx",
        "colab": {
          "base_uri": "https://localhost:8080/"
        },
        "outputId": "da231d16-cb0b-47d8-d39a-8823772dc391"
      },
      "source": [
        "scores = model3.evaluate(X_test, y_test, verbose=2)\n",
        "print('Test accuracy:', scores[1])"
      ],
      "execution_count": 41,
      "outputs": [
        {
          "output_type": "stream",
          "text": [
            "748/748 - 1s - loss: 0.5249 - accuracy: 0.7986\n",
            "Test accuracy: 0.7986122965812683\n"
          ],
          "name": "stdout"
        }
      ]
    },
    {
      "cell_type": "code",
      "metadata": {
        "id": "DW7CWk15cWIv",
        "colab": {
          "base_uri": "https://localhost:8080/",
          "height": 295
        },
        "outputId": "ca97c765-0a2c-4404-dd3c-fb27945aa63a"
      },
      "source": [
        "history = x\n",
        "plt.plot(history.history['accuracy'], 'b')\n",
        "plt.plot(history.history['val_accuracy'], 'r')\n",
        "plt.title('Model Accuracy'),\n",
        "plt.xlabel('Epochs')\n",
        "plt.ylabel('Accuracy')\n",
        "plt.legend(['Train', 'Validation'], loc='upper left')\n",
        "plt.show()"
      ],
      "execution_count": 42,
      "outputs": [
        {
          "output_type": "display_data",
          "data": {
            "image/png": "[encoded data removed]",
            "text/plain": [
              "<Figure size 432x288 with 1 Axes>"
            ]
          },
          "metadata": {
            "needs_background": "light"
          }
        }
      ]
    },
    {
      "cell_type": "code",
      "metadata": {
        "id": "Raq3QoytcZC6"
      },
      "source": [
        "model3.save('model3.h5')"
      ],
      "execution_count": 43,
      "outputs": []
    },
    {
      "cell_type": "code",
      "metadata": {
        "id": "g_sFv1tKGw6U"
      },
      "source": [
        "a.append(model3)"
      ],
      "execution_count": 44,
      "outputs": []
    },
    {
      "cell_type": "markdown",
      "metadata": {
        "id": "MA-s-kt_TjuH"
      },
      "source": [
        "# Integrated Stacking \n",
        "In this case we shall be using neural networks as meta-learner for three sub-models that is LSTM, Feed forward neural network and bidirection LSTM.\n",
        "Integrated Stacking is basically a way of aggregating all the prdictions of the preditors in an ensemble using deep neural nets The output predictions of all the submodels are used as input for the meta-learner.\n",
        "  \n"
      ]
    },
    {
      "cell_type": "code",
      "metadata": {
        "id": "LF_Ap9mcNSM6"
      },
      "source": [
        "from tensorflow.keras.layers import Concatenate\n",
        "from tensorflow.keras.utils import plot_model"
      ],
      "execution_count": 45,
      "outputs": []
    },
    {
      "cell_type": "code",
      "metadata": {
        "id": "UOo04hWCBDAe"
      },
      "source": [
        "def stacked_model(members):\n",
        "\t# here we don't want to upload the weights of our already pretrained model so we have to upadte all layers in all models to not be trainable.\n",
        "  #print(members)\n",
        "  for i in range(len(members)):\n",
        "    model = members[i]\n",
        "    for layer in model.layers:\n",
        "      layer.trainable = False\n",
        "\t\t\t\n",
        "\t# define multi-headed input\n",
        "  ensemble_visible = [model.input for model in members]\n",
        "  # concatenate merge output from each model\n",
        "  ensemble_outputs = [model.output for model in members]\n",
        "  merge = Concatenate()(ensemble_outputs)\n",
        "\n",
        "  hidden = keras.layers.Dense(7, activation='relu')(merge)\n",
        "  output = keras.layers.Dense(3, activation='softmax')(hidden)\n",
        "  model = tf.keras.Model(inputs=ensemble_visible, outputs=output)\n",
        "  plot_model(model, show_shapes=True, to_file='model.png')\n",
        "\n",
        "  model.compile(loss='categorical_crossentropy', optimizer='adam', metrics=['accuracy'])\n",
        "  return model"
      ],
      "execution_count": 46,
      "outputs": []
    },
    {
      "cell_type": "code",
      "metadata": {
        "id": "u4AWONQdBMJ0"
      },
      "source": [
        "final_model = stacked_model(a)"
      ],
      "execution_count": 47,
      "outputs": []
    },
    {
      "cell_type": "code",
      "metadata": {
        "colab": {
          "base_uri": "https://localhost:8080/"
        },
        "id": "yWkg78MWSq8D",
        "outputId": "cb83c991-b6d5-4229-e890-5c23359af475"
      },
      "source": [
        "final_model.input"
      ],
      "execution_count": 48,
      "outputs": [
        {
          "output_type": "execute_result",
          "data": {
            "text/plain": [
              "[<KerasTensor: shape=(None, 52) dtype=float32 (created by layer 'embedding_input')>,\n",
              " <KerasTensor: shape=(None, 52) dtype=float32 (created by layer 'embedding_1_input')>,\n",
              " <KerasTensor: shape=(None, 52) dtype=float32 (created by layer 'embedding_2_input')>]"
            ]
          },
          "metadata": {},
          "execution_count": 48
        }
      ]
    },
    {
      "cell_type": "code",
      "metadata": {
        "colab": {
          "base_uri": "https://localhost:8080/"
        },
        "id": "_BK-nFteXSBp",
        "outputId": "69d6b5e1-4562-4524-a6ba-53ee61dc548a"
      },
      "source": [
        "type(stacked_model)"
      ],
      "execution_count": 49,
      "outputs": [
        {
          "output_type": "execute_result",
          "data": {
            "text/plain": [
              "function"
            ]
          },
          "metadata": {},
          "execution_count": 49
        }
      ]
    },
    {
      "cell_type": "code",
      "metadata": {
        "colab": {
          "base_uri": "https://localhost:8080/"
        },
        "id": "ZTr2PjSWUqwX",
        "outputId": "3e671e4c-5c67-4667-ca9a-faca8c5da286"
      },
      "source": [
        "histoy = final_model.fit([X_val,X_val,X_val], y_val,epochs = 3, verbose = 2,validation_split=0.1)"
      ],
      "execution_count": 50,
      "outputs": [
        {
          "output_type": "stream",
          "text": [
            "Epoch 1/3\n",
            "606/606 - 15s - loss: 0.6171 - accuracy: 0.7530 - val_loss: 0.5156 - val_accuracy: 0.7934\n",
            "Epoch 2/3\n",
            "606/606 - 10s - loss: 0.4825 - accuracy: 0.8109 - val_loss: 0.5021 - val_accuracy: 0.7943\n",
            "Epoch 3/3\n",
            "606/606 - 10s - loss: 0.4740 - accuracy: 0.8100 - val_loss: 0.4974 - val_accuracy: 0.7967\n"
          ],
          "name": "stdout"
        }
      ]
    },
    {
      "cell_type": "code",
      "metadata": {
        "id": "64GJ7Y-h2GE-",
        "colab": {
          "base_uri": "https://localhost:8080/",
          "height": 295
        },
        "outputId": "fdab7472-d294-418f-f3ac-d0c5f4f7032b"
      },
      "source": [
        "plt.plot(history.history['accuracy'], 'b')\n",
        "plt.plot(history.history['val_accuracy'], 'r')\n",
        "plt.title('Model Accuracy'),\n",
        "plt.xlabel('Epochs')\n",
        "plt.ylabel('Accuracy')\n",
        "plt.legend(['Train', 'Validation'], loc='upper left')\n",
        "plt.show()"
      ],
      "execution_count": 51,
      "outputs": [
        {
          "output_type": "display_data",
          "data": {
            "image/png": "[encoded data removed]",
            "text/plain": [
              "<Figure size 432x288 with 1 Axes>"
            ]
          },
          "metadata": {
            "needs_background": "light"
          }
        }
      ]
    },
    {
      "cell_type": "code",
      "metadata": {
        "colab": {
          "base_uri": "https://localhost:8080/"
        },
        "id": "OlyjSMdNbBZk",
        "outputId": "cdfcfc58-e903-474d-ae80-95978f74e392"
      },
      "source": [
        "Scoree = final_model.evaluate([X_test,X_test,X_test],y_test,verbose = 2)\n",
        "print(Scoree[1])"
      ],
      "execution_count": 52,
      "outputs": [
        {
          "output_type": "stream",
          "text": [
            "748/748 - 10s - loss: 0.4695 - accuracy: 0.8116\n",
            "0.8116117715835571\n"
          ],
          "name": "stdout"
        }
      ]
    },
    {
      "cell_type": "code",
      "metadata": {
        "id": "6Jy2WD2dcKhi"
      },
      "source": [
        "final_model.save('deepverse.h5')"
      ],
      "execution_count": 53,
      "outputs": []
    }
  ]
}