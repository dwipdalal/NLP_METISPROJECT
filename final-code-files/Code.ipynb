{
  "nbformat": 4,
  "nbformat_minor": 0,
  "metadata": {
    "accelerator": "GPU",
    "colab": {
      "name": "Final code",
      "provenance": [],
      "collapsed_sections": []
    },
    "kernelspec": {
      "display_name": "Python 3",
      "name": "python3"
    },
    "language_info": {
      "name": "python"
    }
  },
  "cells": [
    {
      "cell_type": "markdown",
      "metadata": {
        "id": "WXK9tzAqdplb"
      },
      "source": [
        "# Sentiment analysis using Stacking of three submodels: LSTM, Bidirectional LSTM, Feed forward neural networks"
      ]
    },
    {
      "cell_type": "code",
      "metadata": {
        "id": "54dRo4Emv2IR"
      },
      "source": [
        "# importing certain libraries that shall be usefull for reading and excecuting the code\n",
        "import numpy as np\n",
        "import pandas as pd\n",
        "import tensorflow as tf\n",
        "from tensorflow import keras\n",
        "from tensorflow.keras.preprocessing.text import Tokenizer "
      ],
      "execution_count": null,
      "outputs": []
    },
    {
      "cell_type": "code",
      "metadata": {
        "colab": {
          "base_uri": "https://localhost:8080/",
          "height": 206
        },
        "id": "UrYPxI7OApLT",
        "outputId": "6f677b12-8c3e-4c57-fcd6-fcb3a4d45c52"
      },
      "source": [
        "sentiments = pd.read_csv('https://raw.githubusercontent.com/dwipdalal/Sentiment-Analysis-using-Ensemble-Learning/main/dataset/sentiment_labels.txt', delimiter='|')\n",
        "sentiments.head()\n",
        "# this is the dataset of sentiment values corresponding to the phrase id. "
      ],
      "execution_count": null,
      "outputs": [
        {
          "data": {
            "text/html": [
              "<div>\n",
              "<style scoped>\n",
              "    .dataframe tbody tr th:only-of-type {\n",
              "        vertical-align: middle;\n",
              "    }\n",
              "\n",
              "    .dataframe tbody tr th {\n",
              "        vertical-align: top;\n",
              "    }\n",
              "\n",
              "    .dataframe thead th {\n",
              "        text-align: right;\n",
              "    }\n",
              "</style>\n",
              "<table border=\"1\" class=\"dataframe\">\n",
              "  <thead>\n",
              "    <tr style=\"text-align: right;\">\n",
              "      <th></th>\n",
              "      <th>phrase ids</th>\n",
              "      <th>sentiment values</th>\n",
              "    </tr>\n",
              "  </thead>\n",
              "  <tbody>\n",
              "    <tr>\n",
              "      <th>0</th>\n",
              "      <td>0</td>\n",
              "      <td>0.50000</td>\n",
              "    </tr>\n",
              "    <tr>\n",
              "      <th>1</th>\n",
              "      <td>1</td>\n",
              "      <td>0.50000</td>\n",
              "    </tr>\n",
              "    <tr>\n",
              "      <th>2</th>\n",
              "      <td>2</td>\n",
              "      <td>0.44444</td>\n",
              "    </tr>\n",
              "    <tr>\n",
              "      <th>3</th>\n",
              "      <td>3</td>\n",
              "      <td>0.50000</td>\n",
              "    </tr>\n",
              "    <tr>\n",
              "      <th>4</th>\n",
              "      <td>4</td>\n",
              "      <td>0.42708</td>\n",
              "    </tr>\n",
              "  </tbody>\n",
              "</table>\n",
              "</div>"
            ],
            "text/plain": [
              "   phrase ids  sentiment values\n",
              "0           0           0.50000\n",
              "1           1           0.50000\n",
              "2           2           0.44444\n",
              "3           3           0.50000\n",
              "4           4           0.42708"
            ]
          },
          "execution_count": 2,
          "metadata": {},
          "output_type": "execute_result"
        }
      ]
    },
    {
      "cell_type": "code",
      "metadata": {
        "colab": {
          "base_uri": "https://localhost:8080/",
          "height": 237
        },
        "id": "P0ewrHFsnoVN",
        "outputId": "69c9e608-ab37-45fb-8967-c2e2d9547b8a"
      },
      "source": [
        "# this is dataset of phrases \n",
        "dataset_phrases = pd.read_csv('https://raw.githubusercontent.com/dwipdalal/Sentiment-Analysis-using-Ensemble-Learning/main/dataset/dictionary.txt',delimiter='|')\n",
        "\n",
        "# since for getting a good look of overall dataset is important so to put phrase and there sentiment values in a single column\n",
        "# the phrase in dataset_phrase are jumbled so for concating two dataset that is dataset_phrase and sentiments it is necessary to make the phrase id column of both in same order so we shall sort the dataset_phrase\n",
        "dataset_phrases.sort_values('0',inplace = True)\n",
        "dataset_phrases.set_index('0', inplace=True)\n",
        "dataset_phrases.head()"
      ],
      "execution_count": null,
      "outputs": [
        {
          "data": {
            "text/html": [
              "<div>\n",
              "<style scoped>\n",
              "    .dataframe tbody tr th:only-of-type {\n",
              "        vertical-align: middle;\n",
              "    }\n",
              "\n",
              "    .dataframe tbody tr th {\n",
              "        vertical-align: top;\n",
              "    }\n",
              "\n",
              "    .dataframe thead th {\n",
              "        text-align: right;\n",
              "    }\n",
              "</style>\n",
              "<table border=\"1\" class=\"dataframe\">\n",
              "  <thead>\n",
              "    <tr style=\"text-align: right;\">\n",
              "      <th></th>\n",
              "      <th>!</th>\n",
              "    </tr>\n",
              "    <tr>\n",
              "      <th>0</th>\n",
              "      <th></th>\n",
              "    </tr>\n",
              "  </thead>\n",
              "  <tbody>\n",
              "    <tr>\n",
              "      <th>1</th>\n",
              "      <td>'</td>\n",
              "    </tr>\n",
              "    <tr>\n",
              "      <th>2</th>\n",
              "      <td>' (</td>\n",
              "    </tr>\n",
              "    <tr>\n",
              "      <th>3</th>\n",
              "      <td>' ( the cockettes</td>\n",
              "    </tr>\n",
              "    <tr>\n",
              "      <th>4</th>\n",
              "      <td>' ( the cockettes )</td>\n",
              "    </tr>\n",
              "    <tr>\n",
              "      <th>5</th>\n",
              "      <td>' ( the cockettes ) provides a window into a s...</td>\n",
              "    </tr>\n",
              "  </tbody>\n",
              "</table>\n",
              "</div>"
            ],
            "text/plain": [
              "                                                   !\n",
              "0                                                   \n",
              "1                                                  '\n",
              "2                                                ' (\n",
              "3                                  ' ( the cockettes\n",
              "4                                ' ( the cockettes )\n",
              "5  ' ( the cockettes ) provides a window into a s..."
            ]
          },
          "execution_count": 3,
          "metadata": {},
          "output_type": "execute_result"
        }
      ]
    },
    {
      "cell_type": "code",
      "metadata": {
        "colab": {
          "base_uri": "https://localhost:8080/",
          "height": 206
        },
        "id": "szOozdk7ot-v",
        "outputId": "b70bb465-ab91-45f7-c063-2530144f84c8"
      },
      "source": [
        "df = pd.concat([dataset_phrases,sentiments], axis=1)\n",
        "df.head()\n",
        "df.shape\n",
        "df.tail()"
      ],
      "execution_count": null,
      "outputs": [
        {
          "data": {
            "text/html": [
              "<div>\n",
              "<style scoped>\n",
              "    .dataframe tbody tr th:only-of-type {\n",
              "        vertical-align: middle;\n",
              "    }\n",
              "\n",
              "    .dataframe tbody tr th {\n",
              "        vertical-align: top;\n",
              "    }\n",
              "\n",
              "    .dataframe thead th {\n",
              "        text-align: right;\n",
              "    }\n",
              "</style>\n",
              "<table border=\"1\" class=\"dataframe\">\n",
              "  <thead>\n",
              "    <tr style=\"text-align: right;\">\n",
              "      <th></th>\n",
              "      <th>!</th>\n",
              "      <th>phrase ids</th>\n",
              "      <th>sentiment values</th>\n",
              "    </tr>\n",
              "  </thead>\n",
              "  <tbody>\n",
              "    <tr>\n",
              "      <th>239227</th>\n",
              "      <td>your standard Hollywood bio-pic</td>\n",
              "      <td>239227</td>\n",
              "      <td>0.36111</td>\n",
              "    </tr>\n",
              "    <tr>\n",
              "      <th>239228</th>\n",
              "      <td>your typical ` fish out of water ' story</td>\n",
              "      <td>239228</td>\n",
              "      <td>0.38889</td>\n",
              "    </tr>\n",
              "    <tr>\n",
              "      <th>239229</th>\n",
              "      <td>zero .</td>\n",
              "      <td>239229</td>\n",
              "      <td>0.33333</td>\n",
              "    </tr>\n",
              "    <tr>\n",
              "      <th>239230</th>\n",
              "      <td>zippy jazzy score</td>\n",
              "      <td>239230</td>\n",
              "      <td>0.88889</td>\n",
              "    </tr>\n",
              "    <tr>\n",
              "      <th>239231</th>\n",
              "      <td>UNK</td>\n",
              "      <td>239231</td>\n",
              "      <td>0.50000</td>\n",
              "    </tr>\n",
              "  </tbody>\n",
              "</table>\n",
              "</div>"
            ],
            "text/plain": [
              "                                               !  phrase ids  sentiment values\n",
              "239227           your standard Hollywood bio-pic      239227           0.36111\n",
              "239228  your typical ` fish out of water ' story      239228           0.38889\n",
              "239229                                    zero .      239229           0.33333\n",
              "239230                         zippy jazzy score      239230           0.88889\n",
              "239231                                       UNK      239231           0.50000"
            ]
          },
          "execution_count": 4,
          "metadata": {},
          "output_type": "execute_result"
        }
      ]
    },
    {
      "cell_type": "code",
      "metadata": {
        "colab": {
          "base_uri": "https://localhost:8080/"
        },
        "id": "lB_pW-p_ejD3",
        "outputId": "85fb711a-d3b9-4698-eb83-e857afaf7149"
      },
      "source": [
        "#missing value remover\n",
        "df.isnull()\n",
        "df.dropna(how = 'any', axis = 0, inplace = True)\n",
        "df.shape\n",
        "# this shows that there are no null values"
      ],
      "execution_count": null,
      "outputs": [
        {
          "data": {
            "text/plain": [
              "(239231, 3)"
            ]
          },
          "execution_count": 5,
          "metadata": {},
          "output_type": "execute_result"
        }
      ]
    },
    {
      "cell_type": "code",
      "metadata": {
        "colab": {
          "base_uri": "https://localhost:8080/"
        },
        "id": "mmeGXpjlyyuc",
        "outputId": "998837fb-ed4b-42ab-9433-5ed24503fcc8"
      },
      "source": [
        "# since the sentiment values are fractions and since we have to perform 3 class classifcation we have divided fractional values into 3 classes.\n",
        "# 0 - [0, 0.333]\n",
        "# 1 - [0.333, 0.666]\n",
        "# 2 - [0.333, 0.666]\n",
        "p = []\n",
        "a = 0.333\n",
        "b = 0.666\n",
        "for i in list(df['sentiment values']):\n",
        "  if (i>=0 and i<=a): \n",
        "    p.append(0)\n",
        "  elif i>a and i<=b:\n",
        "    p.append(1)\n",
        "  else:\n",
        "    p.append(2)\n",
        "len(p)"
      ],
      "execution_count": null,
      "outputs": [
        {
          "data": {
            "text/plain": [
              "239231"
            ]
          },
          "execution_count": 6,
          "metadata": {},
          "output_type": "execute_result"
        }
      ]
    },
    {
      "cell_type": "code",
      "metadata": {
        "colab": {
          "base_uri": "https://localhost:8080/",
          "height": 411
        },
        "id": "Ws6aG70YF_I9",
        "outputId": "e4413c56-4e44-44e7-e86c-9ec8f76491ff"
      },
      "source": [
        "import matplotlib.pyplot as plt\n",
        "def func(pct, allvalues):\n",
        "    absolute = int(pct / 100.*np.sum(allvalues))\n",
        "    return \"{:.1f}%\\n({:d})\".format(pct, absolute)\n",
        "one = p.count(1)\n",
        "zero = p.count(0)\n",
        "two = p.count(2)\n",
        "fig = plt.figure(figsize =(10, 7))\n",
        "plt.pie([zero,one,two], labels = ['negative','neutral','positive'], autopct = lambda pct: func(pct, [zero,one,two]))\n",
        "plt.show()"
      ],
      "execution_count": null,
      "outputs": [
        {
          "data": {
            "image/png": "[encoded data removed]",
            "text/plain": [
              "<Figure size 720x504 with 1 Axes>"
            ]
          },
          "metadata": {},
          "output_type": "display_data"
        }
      ]
    },
    {
      "cell_type": "code",
      "metadata": {
        "id": "34PBnyhx1jDG"
      },
      "source": [
        "# to split dataset into training and testing part\n",
        "X = df['!'].astype('str')\n",
        "y = p\n",
        "from sklearn.model_selection import train_test_split\n",
        "X_train, X_test, y_train, y_test = train_test_split(X, y,stratify = y,test_size=0.1, random_state=42)\n",
        "# 10% of the original dataset shall be used for testing purposes \n",
        "# stratify locks the distribution of different class labels. I.e. ratios of distribution of class labels in train and test will be almost same"
      ],
      "execution_count": null,
      "outputs": []
    },
    {
      "cell_type": "code",
      "metadata": {
        "id": "gtB-uOeFp3Aw"
      },
      "source": [
        "# this is for tokenizing the words, then each word of the tokenized list shall be given a specific index \n",
        "tokenizer = Tokenizer(oov_token= '<0VV>') # <0VV> is the token that the model shall replace the unseen words with. So if some word of the test case is not there in tokenized list then that word shall be replaces with 0VV this is done to maintain the size of the sentence. \n",
        "tokenizer.fit_on_texts(X_train.astype(str)) # we have to use astype(str) as there are some numbers in df[!]\n",
        "word_index_ = tokenizer.word_index # gives index to each word and then makes a dictionary of word and their indexes.\n",
        "\n",
        "\n",
        "# since computer does not understand letters so we shall make list of sequence of numbers that is replaces sentences with sequences of indexes corresponding to those words that shall be feeded to our neural network model.\n",
        "# the numbers that would constitue to this list are those numbers which are index of the corresponding words in the dictionary.\n",
        "sequence_train = tokenizer.texts_to_sequences(X_train)\n",
        "sequence_test = tokenizer.texts_to_sequences(X_test)\n"
      ],
      "execution_count": null,
      "outputs": []
    },
    {
      "cell_type": "code",
      "metadata": {
        "id": "WQi0BBX64RKa"
      },
      "source": [
        "# different sentences has different length so we need to pad the sentences inorder to make all of them of same length before feeding them in our model\n",
        "from tensorflow.keras.preprocessing.sequence import pad_sequences\n",
        "padded_train = pad_sequences(sequence_train, maxlen= 52)\n",
        "padded_test = pad_sequences(sequence_test, maxlen= 52)"
      ],
      "execution_count": null,
      "outputs": []
    },
    {
      "cell_type": "code",
      "metadata": {
        "colab": {
          "base_uri": "https://localhost:8080/"
        },
        "id": "SdTP0mfs7FPl",
        "outputId": "afa44205-c498-4620-d137-8457f968661e"
      },
      "source": [
        "type(padded_test)"
      ],
      "execution_count": null,
      "outputs": [
        {
          "data": {
            "text/plain": [
              "numpy.ndarray"
            ]
          },
          "execution_count": 11,
          "metadata": {},
          "output_type": "execute_result"
        }
      ]
    },
    {
      "cell_type": "code",
      "metadata": {
        "colab": {
          "base_uri": "https://localhost:8080/"
        },
        "id": "sd6K0jAHtfN9",
        "outputId": "5d751e16-9cf7-46c8-920d-6cf6479ad9b2"
      },
      "source": [
        "X_train = padded_train\n",
        "X_test = padded_test\n",
        "y_train = tf.keras.utils.to_categorical(y_train,num_classes= 3)\n",
        "y_train"
      ],
      "execution_count": null,
      "outputs": [
        {
          "data": {
            "text/plain": [
              "array([[0., 1., 0.],\n",
              "       [0., 0., 1.],\n",
              "       [0., 1., 0.],\n",
              "       ...,\n",
              "       [0., 1., 0.],\n",
              "       [0., 0., 1.],\n",
              "       [0., 1., 0.]], dtype=float32)"
            ]
          },
          "execution_count": 12,
          "metadata": {},
          "output_type": "execute_result"
        }
      ]
    },
    {
      "cell_type": "markdown",
      "metadata": {
        "id": "jDBbyDr55BkQ"
      },
      "source": [
        "# Early stopping\n",
        "To prevent overfitting of the model we shall be using early stopping. The corresponding callback function shall stop training when the validation accuracy does not increase for 3 consecutive epochs "
      ]
    },
    {
      "cell_type": "code",
      "metadata": {
        "id": "p-tnuX064pfo"
      },
      "source": [
        "callback= tf.keras.callbacks.EarlyStopping(monitor=\"val_accuracy\",patience=3, verbose=2, mode=\"auto\", restore_best_weights=True)\n",
        "# patience counts number of epochs with no developement and then stops the epochs"
      ],
      "execution_count": null,
      "outputs": []
    },
    {
      "cell_type": "code",
      "metadata": {
        "id": "IMHNbEwcB3Ku"
      },
      "source": [
        "# list to append all of the three models\n",
        "a = []"
      ],
      "execution_count": null,
      "outputs": []
    },
    {
      "cell_type": "code",
      "metadata": {
        "id": "Y18jQlu2Vqb2"
      },
      "source": [
        "X_train, X_val, y_train, y_val = train_test_split(X_train, y_train,stratify = y_train ,test_size=0.1)"
      ],
      "execution_count": null,
      "outputs": []
    },
    {
      "cell_type": "markdown",
      "metadata": {
        "id": "uftsYEzvF0rW"
      },
      "source": [
        ""
      ]
    },
    {
      "cell_type": "markdown",
      "metadata": {
        "id": "Y1lhY3BDaS2r"
      },
      "source": [
        "### Model 1"
      ]
    },
    {
      "cell_type": "markdown",
      "metadata": {
        "id": "kdvq0loS7H6E"
      },
      "source": [
        "The sentences until now are just sequences of words and have no real meaning therefore we shall do word embedding to make sematic vectors. These vectors will be made by using the concept: meaning of the words is know by the company it has."
      ]
    },
    {
      "cell_type": "code",
      "metadata": {
        "id": "V3kjlfp32z09"
      },
      "source": [
        "from keras.layers import LSTM\n",
        "model1 = keras.models.Sequential()\n",
        "model1.add(keras.layers.Embedding(18079+1, 52, input_length=52)) \n",
        "model1.add(LSTM(100))\n",
        "model1.add(keras.layers.Dense(10, activation=\"relu\"))\n",
        "model1.add(keras.layers.Dense(3, activation=\"softmax\")) \n"
      ],
      "execution_count": null,
      "outputs": []
    },
    {
      "cell_type": "code",
      "metadata": {
        "colab": {
          "base_uri": "https://localhost:8080/"
        },
        "id": "atzmeZbZ5iHi",
        "outputId": "ddf9afb3-479a-484a-bc6a-24e7879ab70e"
      },
      "source": [
        "model1.summary()"
      ],
      "execution_count": null,
      "outputs": [
        {
          "name": "stdout",
          "output_type": "stream",
          "text": [
            "Model: \"sequential\"\n",
            "_________________________________________________________________\n",
            "Layer (type)                 Output Shape              Param #   \n",
            "=================================================================\n",
            "embedding (Embedding)        (None, 52, 52)            940160    \n",
            "_________________________________________________________________\n",
            "lstm (LSTM)                  (None, 100)               61200     \n",
            "_________________________________________________________________\n",
            "dense (Dense)                (None, 10)                1010      \n",
            "_________________________________________________________________\n",
            "dense_1 (Dense)              (None, 3)                 33        \n",
            "=================================================================\n",
            "Total params: 1,002,403\n",
            "Trainable params: 1,002,403\n",
            "Non-trainable params: 0\n",
            "_________________________________________________________________\n"
          ]
        }
      ]
    },
    {
      "cell_type": "code",
      "metadata": {
        "id": "Q0BcD0oo5oAk"
      },
      "source": [
        "model1.compile(loss= \"categorical_crossentropy\", optimizer=\"adam\", metrics=[\"accuracy\"])"
      ],
      "execution_count": null,
      "outputs": []
    },
    {
      "cell_type": "markdown",
      "metadata": {
        "id": "Hbq4nc6iJaBj"
      },
      "source": [
        "By setting verbose 0, 1 or 2 you just say how do you want to 'see' the training progress for each epoch.\n",
        "\n",
        "verbose=0 will show you nothing (silent)\n",
        "\n",
        "verbose=1 will show you an animated progress bar \n",
        "\n",
        "verbose=2 will just mention the number of epoch like this:"
      ]
    },
    {
      "cell_type": "code",
      "metadata": {
        "colab": {
          "base_uri": "https://localhost:8080/"
        },
        "id": "6XxFLeyBDv_f",
        "outputId": "a4f31566-512d-4c3b-fd09-7e07c98334ce"
      },
      "source": [
        "y_val.shape"
      ],
      "execution_count": null,
      "outputs": [
        {
          "data": {
            "text/plain": [
              "(21531, 3)"
            ]
          },
          "execution_count": 19,
          "metadata": {},
          "output_type": "execute_result"
        }
      ]
    },
    {
      "cell_type": "code",
      "metadata": {
        "colab": {
          "base_uri": "https://localhost:8080/"
        },
        "id": "dYUEFFDktEEx",
        "outputId": "7110534b-0132-4a22-c5bd-c9a0ccf4e49a"
      },
      "source": [
        "#default batch size is 32\n",
        "history = model1.fit(X_train, y_train, epochs = 8, verbose=2, validation_data=(X_val,y_val), callbacks = [callback]) # the validation data should be provied as tuple or less there is a huge error in format matching"
      ],
      "execution_count": null,
      "outputs": [
        {
          "name": "stdout",
          "output_type": "stream",
          "text": [
            "Epoch 1/8\n",
            "6056/6056 - 75s - loss: 0.5767 - accuracy: 0.7611 - val_loss: 0.5028 - val_accuracy: 0.7880\n",
            "Epoch 2/8\n",
            "6056/6056 - 68s - loss: 0.4532 - accuracy: 0.8081 - val_loss: 0.4811 - val_accuracy: 0.7990\n",
            "Epoch 3/8\n",
            "6056/6056 - 68s - loss: 0.4055 - accuracy: 0.8279 - val_loss: 0.4803 - val_accuracy: 0.8000\n",
            "Epoch 4/8\n",
            "6056/6056 - 68s - loss: 0.3730 - accuracy: 0.8404 - val_loss: 0.4814 - val_accuracy: 0.8013\n",
            "Epoch 5/8\n",
            "6056/6056 - 67s - loss: 0.3468 - accuracy: 0.8510 - val_loss: 0.4899 - val_accuracy: 0.7986\n",
            "Epoch 6/8\n",
            "6056/6056 - 67s - loss: 0.3236 - accuracy: 0.8600 - val_loss: 0.5086 - val_accuracy: 0.8014\n",
            "Epoch 7/8\n",
            "6056/6056 - 67s - loss: 0.3040 - accuracy: 0.8679 - val_loss: 0.5331 - val_accuracy: 0.7987\n",
            "Epoch 8/8\n",
            "6056/6056 - 67s - loss: 0.2856 - accuracy: 0.8747 - val_loss: 0.5419 - val_accuracy: 0.7954\n"
          ]
        }
      ]
    },
    {
      "cell_type": "code",
      "metadata": {
        "colab": {
          "base_uri": "https://localhost:8080/"
        },
        "id": "il5HChrgi2N2",
        "outputId": "ba2fba9d-0e45-4c0c-fe0b-45a571edccb9"
      },
      "source": [
        "y_test = tf.keras.utils.to_categorical(y_test, num_classes= 3)\n",
        "print(y_test.shape, X_test.shape)"
      ],
      "execution_count": null,
      "outputs": [
        {
          "name": "stdout",
          "output_type": "stream",
          "text": [
            "(23924, 3) (23924, 52)\n"
          ]
        }
      ]
    },
    {
      "cell_type": "code",
      "metadata": {
        "colab": {
          "base_uri": "https://localhost:8080/"
        },
        "id": "hYuTQr3Z24kc",
        "outputId": "03de9802-039d-4d8b-cbd6-3167a4679fa0"
      },
      "source": [
        "# to plot the graph of accuracy vs epochs\n",
        "plt.plot(history.history['accuracy'], 'b')\n",
        "plt.plot(history.history['val_accuracy'], 'r')\n",
        "plt.title('Model Accuracy'),\n",
        "plt.xlabel('Epochs')\n",
        "plt.ylabel('Accuracy')\n",
        "plt.legend(['Train', 'Validation'], loc='upper left')\n",
        "plt.show()"
      ],
      "execution_count": null,
      "outputs": [
        {
          "data": {
            "image/png": "[encoded data removed]",
            "text/plain": [
              "<Figure size 432x288 with 1 Axes>"
            ]
          },
          "metadata": {},
          "output_type": "display_data"
        }
      ]
    },
    {
      "cell_type": "markdown",
      "metadata": {
        "id": "OhjiFtsU-Ai9"
      },
      "source": [
        "Since now our model is trianed so we shall find it's actuall accuracy. For doing that we shall pass unseen data into the model and then check the corresponing accuracy. The unseen data in this case is the test data. "
      ]
    },
    {
      "cell_type": "code",
      "metadata": {
        "colab": {
          "base_uri": "https://localhost:8080/"
        },
        "id": "1wonrgsfJFWD",
        "outputId": "4a745417-a7b1-4c12-db69-b17e920f3338"
      },
      "source": [
        "scores = model1.evaluate(X_test, y_test, verbose=0)\n",
        "print('Test accuracy:', scores[1])"
      ],
      "execution_count": null,
      "outputs": [
        {
          "name": "stdout",
          "output_type": "stream",
          "text": [
            "Test accuracy: 0.7974836826324463\n"
          ]
        }
      ]
    },
    {
      "cell_type": "code",
      "metadata": {
        "id": "IVSdCTnF3CTL"
      },
      "source": [
        "model1.save('model1.h5')"
      ],
      "execution_count": null,
      "outputs": []
    },
    {
      "cell_type": "code",
      "metadata": {
        "id": "6TmVrTTlB-4U"
      },
      "source": [
        "a.append(model1)"
      ],
      "execution_count": null,
      "outputs": []
    },
    {
      "cell_type": "markdown",
      "metadata": {
        "id": "XddYZVn2asP-"
      },
      "source": [
        "### Model2"
      ]
    },
    {
      "cell_type": "code",
      "metadata": {
        "id": "PuSk7iBqajth"
      },
      "source": [
        "from keras.layers import LSTM\n",
        "from keras.layers import Bidirectional, Dense\n",
        "model2 = keras.models.Sequential()\n",
        "model2.add(keras.layers.Embedding(18079+1, 52, input_length=52))\n",
        "model2.add(Bidirectional(LSTM(52)))\n",
        "model2.add(keras.layers.Dense(10, activation=\"relu\"))\n",
        "model2.add(keras.layers.Dense(3, activation=\"softmax\"))"
      ],
      "execution_count": null,
      "outputs": []
    },
    {
      "cell_type": "code",
      "metadata": {
        "colab": {
          "base_uri": "https://localhost:8080/"
        },
        "id": "UJwxvqW9azt2",
        "outputId": "9c353147-a504-4110-d36d-967f713f3c9e"
      },
      "source": [
        "model2.summary()"
      ],
      "execution_count": null,
      "outputs": [
        {
          "name": "stdout",
          "output_type": "stream",
          "text": [
            "Model: \"sequential_1\"\n",
            "_________________________________________________________________\n",
            "Layer (type)                 Output Shape              Param #   \n",
            "=================================================================\n",
            "embedding_1 (Embedding)      (None, 52, 52)            940160    \n",
            "_________________________________________________________________\n",
            "bidirectional (Bidirectional (None, 104)               43680     \n",
            "_________________________________________________________________\n",
            "dense_2 (Dense)              (None, 10)                1050      \n",
            "_________________________________________________________________\n",
            "dense_3 (Dense)              (None, 3)                 33        \n",
            "=================================================================\n",
            "Total params: 984,923\n",
            "Trainable params: 984,923\n",
            "Non-trainable params: 0\n",
            "_________________________________________________________________\n"
          ]
        }
      ]
    },
    {
      "cell_type": "code",
      "metadata": {
        "id": "HyDsH7Osa7qr"
      },
      "source": [
        "model2.compile(loss= \"categorical_crossentropy\", optimizer=\"adam\", metrics=[\"accuracy\"])"
      ],
      "execution_count": null,
      "outputs": []
    },
    {
      "cell_type": "code",
      "metadata": {
        "colab": {
          "base_uri": "https://localhost:8080/"
        },
        "id": "LxAGD1PMa_Re",
        "outputId": "fb2053ce-40fa-40b2-dc8a-b1a41ffc04f8"
      },
      "source": [
        "print(X_train.shape, y_train.shape)"
      ],
      "execution_count": null,
      "outputs": [
        {
          "name": "stdout",
          "output_type": "stream",
          "text": [
            "(193776, 52) (193776, 3)\n"
          ]
        }
      ]
    },
    {
      "cell_type": "code",
      "metadata": {
        "colab": {
          "background_save": true,
          "base_uri": "https://localhost:8080/"
        },
        "id": "UypAGz2FbBWR",
        "outputId": "daec9a65-249d-46ab-bc45-190cc851f9b4"
      },
      "source": [
        "x = model2.fit(X_train, y_train, epochs = 8, verbose=2, validation_data=(X_val,y_val), callbacks = [callback])\n"
      ],
      "execution_count": null,
      "outputs": [
        {
          "name": "stdout",
          "output_type": "stream",
          "text": [
            "Epoch 1/8\n",
            "6056/6056 - 147s - loss: 0.5732 - accuracy: 0.7626 - val_loss: 0.5027 - val_accuracy: 0.7909\n",
            "Epoch 2/8\n",
            "6056/6056 - 143s - loss: 0.4499 - accuracy: 0.8109 - val_loss: 0.4845 - val_accuracy: 0.7974\n",
            "Epoch 3/8\n",
            "6056/6056 - 143s - loss: 0.4019 - accuracy: 0.8294 - val_loss: 0.4761 - val_accuracy: 0.7992\n",
            "Epoch 4/8\n",
            "6056/6056 - 144s - loss: 0.3696 - accuracy: 0.8420 - val_loss: 0.4765 - val_accuracy: 0.8024\n",
            "Epoch 5/8\n",
            "6056/6056 - 143s - loss: 0.3441 - accuracy: 0.8526 - val_loss: 0.4917 - val_accuracy: 0.8020\n",
            "Epoch 6/8\n",
            "6056/6056 - 142s - loss: 0.3226 - accuracy: 0.8609 - val_loss: 0.5104 - val_accuracy: 0.8016\n",
            "Epoch 7/8\n",
            "6056/6056 - 142s - loss: 0.3030 - accuracy: 0.8679 - val_loss: 0.5267 - val_accuracy: 0.7959\n",
            "Restoring model weights from the end of the best epoch.\n",
            "Epoch 00007: early stopping\n"
          ]
        }
      ]
    },
    {
      "cell_type": "code",
      "metadata": {
        "colab": {
          "background_save": true
        },
        "id": "59_DPhBebNRA",
        "outputId": "7cad838c-de33-4b89-eeeb-9dcbacec4f08"
      },
      "source": [
        "print(X_test.shape,y_test.shape)"
      ],
      "execution_count": null,
      "outputs": [
        {
          "name": "stdout",
          "output_type": "stream",
          "text": [
            "(23924, 52) (23924, 3)\n"
          ]
        }
      ]
    },
    {
      "cell_type": "code",
      "metadata": {
        "colab": {
          "background_save": true
        },
        "id": "Pvp3u8tEbPHe",
        "outputId": "1c86d886-258e-4c82-bd9e-4aaad510383a"
      },
      "source": [
        "scores = model2.evaluate(X_test, y_test, verbose=2)\n",
        "print('Test accuracy:', scores[1])"
      ],
      "execution_count": null,
      "outputs": [
        {
          "name": "stdout",
          "output_type": "stream",
          "text": [
            "748/748 - 7s - loss: 0.4706 - accuracy: 0.8070\n",
            "Test accuracy: 0.8070138692855835\n"
          ]
        }
      ]
    },
    {
      "cell_type": "code",
      "metadata": {
        "colab": {
          "background_save": true
        },
        "id": "8CPEsKEcbUun",
        "outputId": "ce84ec47-fe8b-4d87-c9ee-769ed7ef1596"
      },
      "source": [
        "history = x\n",
        "plt.plot(history.history['accuracy'], 'b')\n",
        "plt.plot(history.history['val_accuracy'], 'r')\n",
        "plt.title('Model Accuracy'),\n",
        "plt.xlabel('Epochs')\n",
        "plt.ylabel('Accuracy')\n",
        "plt.legend(['Train', 'Validation'], loc='upper left')\n",
        "plt.show()"
      ],
      "execution_count": null,
      "outputs": [
        {
          "data": {
            "image/png": "[encoded data removed]",
            "text/plain": [
              "<Figure size 432x288 with 1 Axes>"
            ]
          },
          "metadata": {},
          "output_type": "display_data"
        }
      ]
    },
    {
      "cell_type": "code",
      "metadata": {
        "colab": {
          "background_save": true
        },
        "id": "FX_5ha3lbbHo"
      },
      "source": [
        "model2.save('model2.h5')"
      ],
      "execution_count": null,
      "outputs": []
    },
    {
      "cell_type": "code",
      "metadata": {
        "colab": {
          "background_save": true
        },
        "id": "1Xb8d7yqFJba"
      },
      "source": [
        "a.append(model2)"
      ],
      "execution_count": null,
      "outputs": []
    },
    {
      "cell_type": "markdown",
      "metadata": {
        "id": "1tu0qTf4blvH"
      },
      "source": [
        "### Model3"
      ]
    },
    {
      "cell_type": "code",
      "metadata": {
        "colab": {
          "background_save": true
        },
        "id": "s3d-vfe9bkeG"
      },
      "source": [
        "model3 = keras.models.Sequential()\n",
        "model3.add(keras.layers.Embedding(18079+1, 52, input_length=52))\n",
        "model3.add(keras.layers.GlobalAveragePooling1D())\n",
        "model3.add(keras.layers.Dense(30, activation=\"relu\"))\n",
        "model3.add(keras.layers.Dense(10, activation=\"relu\"))\n",
        "model3.add(keras.layers.Dense(3, activation=\"softmax\"))"
      ],
      "execution_count": null,
      "outputs": []
    },
    {
      "cell_type": "code",
      "metadata": {
        "colab": {
          "background_save": true
        },
        "id": "QENdFu0kb_eR",
        "outputId": "7a70c7d6-37c9-4ca6-f7a8-474dc00442c9"
      },
      "source": [
        "model3.summary()"
      ],
      "execution_count": null,
      "outputs": [
        {
          "name": "stdout",
          "output_type": "stream",
          "text": [
            "Model: \"sequential_2\"\n",
            "_________________________________________________________________\n",
            "Layer (type)                 Output Shape              Param #   \n",
            "=================================================================\n",
            "embedding_2 (Embedding)      (None, 52, 52)            940160    \n",
            "_________________________________________________________________\n",
            "global_average_pooling1d (Gl (None, 52)                0         \n",
            "_________________________________________________________________\n",
            "dense_4 (Dense)              (None, 30)                1590      \n",
            "_________________________________________________________________\n",
            "dense_5 (Dense)              (None, 10)                310       \n",
            "_________________________________________________________________\n",
            "dense_6 (Dense)              (None, 3)                 33        \n",
            "=================================================================\n",
            "Total params: 942,093\n",
            "Trainable params: 942,093\n",
            "Non-trainable params: 0\n",
            "_________________________________________________________________\n"
          ]
        }
      ]
    },
    {
      "cell_type": "code",
      "metadata": {
        "colab": {
          "background_save": true
        },
        "id": "SGi_JucKcFZM"
      },
      "source": [
        "model3.compile(loss= \"categorical_crossentropy\", optimizer=\"adam\", metrics=[\"accuracy\"])"
      ],
      "execution_count": null,
      "outputs": []
    },
    {
      "cell_type": "code",
      "metadata": {
        "colab": {
          "background_save": true
        },
        "id": "O9YGo8mJcGE9",
        "outputId": "11ddcbc4-7bf4-47ce-ec34-510bc41fae9f"
      },
      "source": [
        "print(X_train.shape, y_train.shape)"
      ],
      "execution_count": null,
      "outputs": [
        {
          "name": "stdout",
          "output_type": "stream",
          "text": [
            "(193776, 52) (193776, 3)\n"
          ]
        }
      ]
    },
    {
      "cell_type": "code",
      "metadata": {
        "colab": {
          "background_save": true
        },
        "id": "QPa75KqIcLeq",
        "outputId": "c02444bd-7da9-40d4-ff1b-4b418e29c81c"
      },
      "source": [
        "x = model3.fit(X_train, y_train, epochs = 8, verbose=2, validation_data=(X_val,y_val), callbacks = [callback])"
      ],
      "execution_count": null,
      "outputs": [
        {
          "name": "stdout",
          "output_type": "stream",
          "text": [
            "Epoch 1/8\n",
            "6056/6056 - 27s - loss: 0.6571 - accuracy: 0.7272 - val_loss: 0.5407 - val_accuracy: 0.7768\n",
            "Epoch 2/8\n",
            "6056/6056 - 27s - loss: 0.4959 - accuracy: 0.7958 - val_loss: 0.5078 - val_accuracy: 0.7906\n",
            "Epoch 3/8\n",
            "6056/6056 - 26s - loss: 0.4626 - accuracy: 0.8079 - val_loss: 0.5103 - val_accuracy: 0.7902\n",
            "Epoch 4/8\n",
            "6056/6056 - 25s - loss: 0.4414 - accuracy: 0.8164 - val_loss: 0.5023 - val_accuracy: 0.7962\n",
            "Epoch 5/8\n",
            "6056/6056 - 25s - loss: 0.4229 - accuracy: 0.8245 - val_loss: 0.5220 - val_accuracy: 0.7956\n",
            "Epoch 6/8\n",
            "6056/6056 - 27s - loss: 0.4070 - accuracy: 0.8305 - val_loss: 0.5062 - val_accuracy: 0.7978\n",
            "Epoch 7/8\n",
            "6056/6056 - 26s - loss: 0.3934 - accuracy: 0.8366 - val_loss: 0.5116 - val_accuracy: 0.7995\n",
            "Epoch 8/8\n",
            "6056/6056 - 27s - loss: 0.3814 - accuracy: 0.8419 - val_loss: 0.5275 - val_accuracy: 0.7974\n"
          ]
        }
      ]
    },
    {
      "cell_type": "code",
      "metadata": {
        "colab": {
          "background_save": true
        },
        "id": "vJK9hJUlcRyx",
        "outputId": "0514b409-568a-49c8-8180-b6257ab1a336"
      },
      "source": [
        "scores = model3.evaluate(X_test, y_test, verbose=2)\n",
        "print('Test accuracy:', scores[1])"
      ],
      "execution_count": null,
      "outputs": [
        {
          "name": "stdout",
          "output_type": "stream",
          "text": [
            "748/748 - 1s - loss: 0.5194 - accuracy: 0.8002\n",
            "Test accuracy: 0.8002006411552429\n"
          ]
        }
      ]
    },
    {
      "cell_type": "code",
      "metadata": {
        "colab": {
          "background_save": true
        },
        "id": "DW7CWk15cWIv",
        "outputId": "1e2d7e0d-8f89-4ea7-b279-219047f89b62"
      },
      "source": [
        "history = x\n",
        "plt.plot(history.history['accuracy'], 'b')\n",
        "plt.plot(history.history['val_accuracy'], 'r')\n",
        "plt.title('Model Accuracy'),\n",
        "plt.xlabel('Epochs')\n",
        "plt.ylabel('Accuracy')\n",
        "plt.legend(['Train', 'Validation'], loc='upper left')\n",
        "plt.show()"
      ],
      "execution_count": null,
      "outputs": [
        {
          "data": {
            "image/png": "[encoded data removed]",
            "text/plain": [
              "<Figure size 432x288 with 1 Axes>"
            ]
          },
          "metadata": {},
          "output_type": "display_data"
        }
      ]
    },
    {
      "cell_type": "code",
      "metadata": {
        "colab": {
          "background_save": true
        },
        "id": "Raq3QoytcZC6"
      },
      "source": [
        "model3.save('model3.h5')"
      ],
      "execution_count": null,
      "outputs": []
    },
    {
      "cell_type": "code",
      "metadata": {
        "colab": {
          "background_save": true
        },
        "id": "g_sFv1tKGw6U"
      },
      "source": [
        "a.append(model3)"
      ],
      "execution_count": null,
      "outputs": []
    },
    {
      "cell_type": "markdown",
      "metadata": {
        "id": "MA-s-kt_TjuH"
      },
      "source": [
        "# Integrated Stacking \n",
        "In this case we shall be using neural networks as meta-learner for three sub-models that is LSTM, Feed forward neural network and bidirection LSTM.\n",
        "Integrated Stacking is basically a way of aggregating all the prdictions of the preditors in an ensemble using deep neural nets. The output predictions of all the submodels are used as input for the meta-learner.\n",
        "By doing this the accuracy of the final models increase. \n",
        "  \n"
      ]
    },
    {
      "cell_type": "code",
      "metadata": {
        "colab": {
          "background_save": true
        },
        "id": "LF_Ap9mcNSM6"
      },
      "source": [
        "from tensorflow.keras.layers import Concatenate\n",
        "from tensorflow.keras.utils import plot_model"
      ],
      "execution_count": null,
      "outputs": []
    },
    {
      "cell_type": "code",
      "metadata": {
        "colab": {
          "background_save": true
        },
        "id": "UOo04hWCBDAe"
      },
      "source": [
        "def stacked_model(members):\n",
        "\t# here we don't want to upload the weights of our already pretrained model so we have to upadte all layers in all models to not be trainable.\n",
        "  #print(members)\n",
        "  for i in range(len(members)):\n",
        "    model = members[i]\n",
        "    for layer in model.layers:\n",
        "      layer.trainable = False\n",
        "\t\t\t\n",
        "\t# define multi-headed input\n",
        "  ensemble_visible = [model.input for model in members]\n",
        "  # concatenate merge output from each model\n",
        "  ensemble_outputs = [model.output for model in members]\n",
        "  merge = Concatenate()(ensemble_outputs)\n",
        "\n",
        "  hidden = keras.layers.Dense(7, activation='relu')(merge)\n",
        "  output = keras.layers.Dense(3, activation='softmax')(hidden)\n",
        "  model = tf.keras.Model(inputs=ensemble_visible, outputs=output)\n",
        "  plot_model(model, show_shapes=True, to_file='model.png')\n",
        "\n",
        "  model.compile(loss='categorical_crossentropy', optimizer='adam', metrics=['accuracy'])\n",
        "  return model"
      ],
      "execution_count": null,
      "outputs": []
    },
    {
      "cell_type": "markdown",
      "metadata": {
        "id": "Y52_yfkiekSX"
      },
      "source": [
        "![model.png](data:image/png;base64,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)"
      ]
    },
    {
      "cell_type": "code",
      "metadata": {
        "colab": {
          "background_save": true
        },
        "id": "u4AWONQdBMJ0"
      },
      "source": [
        "final_model = stacked_model(a)"
      ],
      "execution_count": null,
      "outputs": []
    },
    {
      "cell_type": "code",
      "metadata": {
        "colab": {
          "background_save": true
        },
        "id": "yWkg78MWSq8D",
        "outputId": "3b8e43ad-ebdb-4aab-e8f3-5a8383516c04"
      },
      "source": [
        "final_model.input"
      ],
      "execution_count": null,
      "outputs": [
        {
          "data": {
            "text/plain": [
              "[<KerasTensor: shape=(None, 52) dtype=float32 (created by layer 'embedding_input')>,\n",
              " <KerasTensor: shape=(None, 52) dtype=float32 (created by layer 'embedding_1_input')>,\n",
              " <KerasTensor: shape=(None, 52) dtype=float32 (created by layer 'embedding_2_input')>]"
            ]
          },
          "execution_count": null,
          "metadata": {},
          "output_type": "execute_result"
        }
      ]
    },
    {
      "cell_type": "code",
      "metadata": {
        "colab": {
          "background_save": true
        },
        "id": "_BK-nFteXSBp",
        "outputId": "5b63c2f6-1d04-47e0-f100-62a4d8416403"
      },
      "source": [
        "type(stacked_model)"
      ],
      "execution_count": null,
      "outputs": [
        {
          "data": {
            "text/plain": [
              "function"
            ]
          },
          "execution_count": null,
          "metadata": {},
          "output_type": "execute_result"
        }
      ]
    },
    {
      "cell_type": "code",
      "metadata": {
        "colab": {
          "background_save": true
        },
        "id": "ZTr2PjSWUqwX",
        "outputId": "8fbb8330-6228-41a3-eb17-f7e4d6f2f529"
      },
      "source": [
        "histoy = final_model.fit([X_val,X_val,X_val], y_val,epochs = 3, verbose = 2,validation_split=0.1)"
      ],
      "execution_count": null,
      "outputs": [
        {
          "name": "stdout",
          "output_type": "stream",
          "text": [
            "Epoch 1/3\n",
            "606/606 - 16s - loss: 0.6652 - accuracy: 0.7131 - val_loss: 0.4912 - val_accuracy: 0.7999\n",
            "Epoch 2/3\n",
            "606/606 - 10s - loss: 0.4790 - accuracy: 0.8063 - val_loss: 0.4734 - val_accuracy: 0.8106\n",
            "Epoch 3/3\n",
            "606/606 - 10s - loss: 0.4738 - accuracy: 0.8055 - val_loss: 0.4708 - val_accuracy: 0.8115\n"
          ]
        }
      ]
    },
    {
      "cell_type": "code",
      "metadata": {
        "colab": {
          "background_save": true
        },
        "id": "64GJ7Y-h2GE-",
        "outputId": "146dacf6-90b6-43f8-be1e-fecd3bb4eb27"
      },
      "source": [
        "plt.plot(history.history['accuracy'], 'b')\n",
        "plt.plot(history.history['val_accuracy'], 'r')\n",
        "plt.title('Model Accuracy'),\n",
        "plt.xlabel('Epochs')\n",
        "plt.ylabel('Accuracy')\n",
        "plt.legend(['Train', 'Validation'], loc='upper left')\n",
        "plt.show()"
      ],
      "execution_count": null,
      "outputs": [
        {
          "data": {
            "image/png": "[encoded data removed]",
            "text/plain": [
              "<Figure size 432x288 with 1 Axes>"
            ]
          },
          "metadata": {},
          "output_type": "display_data"
        }
      ]
    },
    {
      "cell_type": "code",
      "metadata": {
        "colab": {
          "background_save": true
        },
        "id": "OlyjSMdNbBZk",
        "outputId": "fd4aad80-caa4-4ca3-9dce-6e26346e4c46"
      },
      "source": [
        "Scoree = final_model.evaluate([X_test,X_test,X_test],y_test,verbose = 2)\n",
        "print(Scoree[1])\n"
      ],
      "execution_count": null,
      "outputs": [
        {
          "name": "stdout",
          "output_type": "stream",
          "text": [
            "748/748 - 10s - loss: 0.4672 - accuracy: 0.8124\n",
            "0.8123641610145569\n"
          ]
        }
      ]
    },
    {
      "cell_type": "markdown",
      "metadata": {
        "id": "jt2lo28jdwvR"
      },
      "source": [
        "# i.e. the overall accuracy of the ensembled model is 0.6% more than the best model of three submodels(the bidirectional LSTM)"
      ]
    },
    {
      "cell_type": "code",
      "metadata": {
        "id": "6Jy2WD2dcKhi"
      },
      "source": [
        "final_model.save('deepverse.h5')"
      ],
      "execution_count": null,
      "outputs": []
    }
  ]
}